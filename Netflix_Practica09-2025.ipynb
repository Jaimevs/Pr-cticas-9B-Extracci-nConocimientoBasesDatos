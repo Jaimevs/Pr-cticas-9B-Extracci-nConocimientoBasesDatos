{
 "cells": [
  {
   "cell_type": "markdown",
   "id": "3d5c51b5-2b5f-4f7a-a877-24f41182f61c",
   "metadata": {},
   "source": [
    "# Sistema de Recomendaciones Netflix 2025 - Datasets Actualizados"
   ]
  },
  {
   "cell_type": "markdown",
   "id": "6e9b0614-2df4-4399-8492-8ee734ad6c12",
   "metadata": {},
   "source": [
    "#### Librerías Necesarias\n",
    "Descripción: Importación de todas las librerías requeridas para el análisis y sistema de recomendaciones."
   ]
  },
  {
   "cell_type": "code",
   "execution_count": 12,
   "id": "19f5d6f9-9997-4086-bb6f-34decf317af0",
   "metadata": {},
   "outputs": [],
   "source": [
    "# Librerías básicas para manipulación de datos\n",
    "import pandas as pd\n",
    "import numpy as np\n",
    "\n",
    "# Librerías para visualización\n",
    "import matplotlib.pyplot as plt\n",
    "import seaborn as sns\n",
    "import plotly.express as px\n",
    "import plotly.graph_objects as go\n",
    "\n",
    "# Librerías para machine learning y sistemas de recomendación\n",
    "from sklearn.feature_extraction.text import TfidfVectorizer, CountVectorizer\n",
    "from sklearn.metrics.pairwise import cosine_similarity, linear_kernel\n",
    "from sklearn.preprocessing import StandardScaler\n",
    "\n",
    "# Librerías para procesamiento de texto\n",
    "import re\n",
    "from collections import Counter\n",
    "import warnings\n",
    "\n",
    "# Configuración\n",
    "warnings.filterwarnings('ignore')\n",
    "plt.style.use('seaborn-v0_8')\n",
    "sns.set_palette(\"husl\")"
   ]
  },
  {
   "cell_type": "markdown",
   "id": "f0366467-cd3b-4d4e-8fa8-6e29f3131bf0",
   "metadata": {},
   "source": [
    "#### Carga y Unión de Datasets\n",
    "Descripción: Carga de los datasets separados de movies y TV shows, y unión en un dataset completo."
   ]
  },
  {
   "cell_type": "code",
   "execution_count": 16,
   "id": "d6b54e04-707b-49a6-903a-7c8f0cc26d60",
   "metadata": {},
   "outputs": [
    {
     "name": "stdout",
     "output_type": "stream",
     "text": [
      "Información de Movies Dataset:\n",
      "Forma: (16000, 18)\n",
      "Columnas: ['show_id', 'type', 'title', 'director', 'cast', 'country', 'date_added', 'release_year', 'rating', 'duration', 'genres', 'language', 'description', 'popularity', 'vote_count', 'vote_average', 'budget', 'revenue']\n",
      "\n",
      "Información de TV Shows Dataset:\n",
      "Forma: (16000, 16)\n",
      "Columnas: ['show_id', 'type', 'title', 'director', 'cast', 'country', 'date_added', 'release_year', 'rating', 'duration', 'genres', 'language', 'description', 'popularity', 'vote_count', 'vote_average']\n",
      "\n",
      "Dataset combinado:\n",
      "Forma total: (32000, 18)\n",
      "Movies: 16000, TV Shows: 16000\n"
     ]
    }
   ],
   "source": [
    "# Cargar datasets separados de Netflix 2025\n",
    "movies_df = pd.read_csv('2015/netflix_movies_detailed_up_to_2025.csv')\n",
    "tv_shows_df = pd.read_csv('2015/netflix_tv_shows_detailed_up_to_2025.csv')\n",
    "\n",
    "print(\"Información de Movies Dataset:\")\n",
    "print(f\"Forma: {movies_df.shape}\")\n",
    "print(f\"Columnas: {movies_df.columns.tolist()}\")\n",
    "\n",
    "print(\"\\nInformación de TV Shows Dataset:\")\n",
    "print(f\"Forma: {tv_shows_df.shape}\")\n",
    "print(f\"Columnas: {tv_shows_df.columns.tolist()}\")\n",
    "\n",
    "# Unir ambos datasets en uno completo\n",
    "netflix_2025 = pd.concat([movies_df, tv_shows_df], ignore_index=True)\n",
    "\n",
    "print(f\"\\nDataset combinado:\")\n",
    "print(f\"Forma total: {netflix_2025.shape}\")\n",
    "print(f\"Movies: {len(movies_df)}, TV Shows: {len(tv_shows_df)}\")"
   ]
  },
  {
   "cell_type": "markdown",
   "id": "0081b671-d7dd-40f9-9c29-fc8851d0c065",
   "metadata": {},
   "source": [
    " Exploración Inicial del Dataset Combinado"
   ]
  },
  {
   "cell_type": "code",
   "execution_count": 19,
   "id": "e1efb702-b865-4ce2-8851-05e1f97b0520",
   "metadata": {},
   "outputs": [
    {
     "name": "stdout",
     "output_type": "stream",
     "text": [
      "Primeras 5 filas del dataset 2025:\n",
      "   show_id   type                                         title  \\\n",
      "0    10192  Movie                           Shrek Forever After   \n",
      "1    27205  Movie                                     Inception   \n",
      "2    12444  Movie  Harry Potter and the Deathly Hallows: Part 1   \n",
      "3    38757  Movie                                       Tangled   \n",
      "4    10191  Movie                      How to Train Your Dragon   \n",
      "\n",
      "                      director  \\\n",
      "0                Mike Mitchell   \n",
      "1            Christopher Nolan   \n",
      "2                  David Yates   \n",
      "3   Byron Howard, Nathan Greno   \n",
      "4  Chris Sanders, Dean DeBlois   \n",
      "\n",
      "                                                cast  \\\n",
      "0  Mike Myers, Eddie Murphy, Cameron Diaz, Antoni...   \n",
      "1  Leonardo DiCaprio, Joseph Gordon-Levitt, Ken W...   \n",
      "2  Daniel Radcliffe, Emma Watson, Rupert Grint, T...   \n",
      "3  Mandy Moore, Zachary Levi, Donna Murphy, Ron P...   \n",
      "4  Jay Baruchel, Gerard Butler, Craig Ferguson, A...   \n",
      "\n",
      "                                    country  date_added  release_year  rating  \\\n",
      "0                  United States of America  2010-05-16          2010   6.380   \n",
      "1  United Kingdom, United States of America  2010-07-15          2010   8.369   \n",
      "2  United Kingdom, United States of America  2010-11-17          2010   7.744   \n",
      "3                  United States of America  2010-11-24          2010   7.600   \n",
      "4                  United States of America  2010-03-18          2010   7.800   \n",
      "\n",
      "  duration                                         genres language  \\\n",
      "0      NaN  Comedy, Adventure, Fantasy, Animation, Family       en   \n",
      "1      NaN             Action, Science Fiction, Adventure       en   \n",
      "2      NaN                             Adventure, Fantasy       en   \n",
      "3      NaN                   Animation, Family, Adventure       en   \n",
      "4      NaN          Fantasy, Adventure, Animation, Family       en   \n",
      "\n",
      "                                         description  popularity  vote_count  \\\n",
      "0  A bored and domesticated Shrek pacts with deal...     203.893        7449   \n",
      "1  Cobb, a skilled thief who commits corporate es...     156.242       37119   \n",
      "2  Harry, Ron and Hermione walk away from their l...     121.191       19327   \n",
      "3  Feisty teenager Rapunzel, who has long and mag...     111.762       11638   \n",
      "4  As the son of a Viking leader on the cusp of m...     110.044       13259   \n",
      "\n",
      "   vote_average       budget      revenue  \n",
      "0         6.380  165000000.0  752600867.0  \n",
      "1         8.369  160000000.0  839030630.0  \n",
      "2         7.744  250000000.0  954305868.0  \n",
      "3         7.600  260000000.0  592461732.0  \n",
      "4         7.800  165000000.0  494879471.0  \n",
      "\n",
      "Información del dataset:\n",
      "<class 'pandas.core.frame.DataFrame'>\n",
      "RangeIndex: 32000 entries, 0 to 31999\n",
      "Data columns (total 18 columns):\n",
      " #   Column        Non-Null Count  Dtype  \n",
      "---  ------        --------------  -----  \n",
      " 0   show_id       32000 non-null  int64  \n",
      " 1   type          32000 non-null  object \n",
      " 2   title         32000 non-null  object \n",
      " 3   director      20903 non-null  object \n",
      " 4   cast          30639 non-null  object \n",
      " 5   country       29737 non-null  object \n",
      " 6   date_added    32000 non-null  object \n",
      " 7   release_year  32000 non-null  int64  \n",
      " 8   rating        32000 non-null  float64\n",
      " 9   duration      16000 non-null  object \n",
      " 10  genres        30919 non-null  object \n",
      " 11  language      32000 non-null  object \n",
      " 12  description   28662 non-null  object \n",
      " 13  popularity    32000 non-null  float64\n",
      " 14  vote_count    32000 non-null  int64  \n",
      " 15  vote_average  32000 non-null  float64\n",
      " 16  budget        16000 non-null  float64\n",
      " 17  revenue       16000 non-null  float64\n",
      "dtypes: float64(5), int64(3), object(10)\n",
      "memory usage: 4.4+ MB\n",
      "None\n",
      "\n",
      "Valores nulos por columna:\n",
      "director       11097\n",
      "cast            1361\n",
      "country         2263\n",
      "duration       16000\n",
      "genres          1081\n",
      "description     3338\n",
      "budget         16000\n",
      "revenue        16000\n",
      "dtype: int64\n",
      "\n",
      "Estadísticas de columnas numéricas:\n",
      "popularity: Min=2.323, Max=6421.923, Mean=42.62\n",
      "vote_count: Min=0, Max=37119, Mean=412.84\n",
      "vote_average: Min=0.0, Max=10.0, Mean=5.69\n",
      "budget: Min=0.0, Max=460000000.0, Mean=8766791.71\n",
      "revenue: Min=0.0, Max=2799439100.0, Mean=24463075.66\n"
     ]
    }
   ],
   "source": [
    "# Mostrar primeras filas del dataset combinado\n",
    "print(\"Primeras 5 filas del dataset 2025:\")\n",
    "print(netflix_2025.head())\n",
    "\n",
    "# Información general del dataset\n",
    "print(\"\\nInformación del dataset:\")\n",
    "print(netflix_2025.info())\n",
    "\n",
    "# Verificar valores nulos\n",
    "print(\"\\nValores nulos por columna:\")\n",
    "null_counts = netflix_2025.isnull().sum()\n",
    "print(null_counts[null_counts > 0])\n",
    "\n",
    "# Estadísticas de columnas numéricas nuevas\n",
    "print(\"\\nEstadísticas de columnas numéricas:\")\n",
    "numeric_cols = ['popularity', 'vote_count', 'vote_average', 'budget', 'revenue']\n",
    "for col in numeric_cols:\n",
    "    if col in netflix_2025.columns:\n",
    "        print(f\"{col}: Min={netflix_2025[col].min()}, Max={netflix_2025[col].max()}, Mean={netflix_2025[col].mean():.2f}\")"
   ]
  },
  {
   "cell_type": "markdown",
   "id": "ce7f2708-8cf0-4391-b5ad-2aa3296b687a",
   "metadata": {},
   "source": [
    "Limpieza y Preprocesamiento de Datos\n",
    "Descripción: Limpieza y preparación de los datos para el sistema de recomendaciones."
   ]
  },
  {
   "cell_type": "code",
   "execution_count": 22,
   "id": "f4e2b9c4-aa55-4212-ba5d-809be7bc7070",
   "metadata": {},
   "outputs": [
    {
     "name": "stdout",
     "output_type": "stream",
     "text": [
      "Iniciando limpieza de datos...\n",
      "  director: 0 valores nulos rellenados\n",
      "  cast: 0 valores nulos rellenados\n",
      "  country: 0 valores nulos rellenados\n",
      "  description: 0 valores nulos rellenados\n",
      "  genres: 0 valores nulos rellenados\n",
      "  popularity: valores nulos rellenados con 0\n",
      "  vote_count: valores nulos rellenados con 0\n",
      "  vote_average: valores nulos rellenados con 0\n",
      "  budget: valores nulos rellenados con 0\n",
      "  revenue: valores nulos rellenados con 0\n",
      "Dataset después de limpieza: (32000, 19)\n",
      "\n",
      "Verificación post-limpieza:\n",
      "Valores nulos restantes: 16000\n"
     ]
    }
   ],
   "source": [
    "# Crear copia para trabajar\n",
    "netflix_clean = netflix_2025.copy()\n",
    "\n",
    "# Función para limpiar y preparar datos\n",
    "def clean_netflix_data(df):\n",
    "    \"\"\"\n",
    "    Limpia y prepara el dataset de Netflix para el sistema de recomendaciones\n",
    "    \"\"\"\n",
    "    print(\"Iniciando limpieza de datos...\")\n",
    "    \n",
    "    # Manejar valores nulos en columnas de texto\n",
    "    text_columns = ['director', 'cast', 'country', 'description', 'genres']\n",
    "    for col in text_columns:\n",
    "        if col in df.columns:\n",
    "            df[col] = df[col].fillna('Unknown')\n",
    "            print(f\"  {col}: {df[col].isnull().sum()} valores nulos rellenados\")\n",
    "    \n",
    "    # Manejar valores nulos en columnas numéricas\n",
    "    numeric_columns = ['popularity', 'vote_count', 'vote_average', 'budget', 'revenue']\n",
    "    for col in numeric_columns:\n",
    "        if col in df.columns:\n",
    "            df[col] = df[col].fillna(0)\n",
    "            print(f\"  {col}: valores nulos rellenados con 0\")\n",
    "    \n",
    "    # Limpiar columna de fecha\n",
    "    if 'date_added' in df.columns:\n",
    "        df['date_added'] = pd.to_datetime(df['date_added'], errors='coerce')\n",
    "        df['year_added'] = df['date_added'].dt.year\n",
    "    \n",
    "    # Eliminar filas con títulos nulos (crítico)\n",
    "    df = df.dropna(subset=['title'])\n",
    "    \n",
    "    print(f\"Dataset después de limpieza: {df.shape}\")\n",
    "    return df\n",
    "\n",
    "# Aplicar limpieza\n",
    "netflix_clean = clean_netflix_data(netflix_clean)\n",
    "\n",
    "# Verificar resultado de limpieza\n",
    "print(\"\\nVerificación post-limpieza:\")\n",
    "print(f\"Valores nulos restantes: {netflix_clean.isnull().sum().sum()}\")"
   ]
  },
  {
   "cell_type": "markdown",
   "id": "5156b1a8-4149-4dcb-af35-04cce6a1ccd4",
   "metadata": {},
   "source": [
    "Preparación de Características para Recomendaciones"
   ]
  },
  {
   "cell_type": "code",
   "execution_count": 25,
   "id": "ae53a1e4-1285-487d-81ac-a24dea293ce6",
   "metadata": {},
   "outputs": [
    {
     "name": "stdout",
     "output_type": "stream",
     "text": [
      "Características limpias creadas:\n",
      "['clean_genres', 'clean_director', 'clean_cast', 'clean_description', 'clean_country']\n"
     ]
    }
   ],
   "source": [
    "# Función para limpiar texto\n",
    "def clean_text_feature(text):\n",
    "    \"\"\"\n",
    "    Limpia características de texto para el sistema de recomendaciones\n",
    "    \"\"\"\n",
    "    if pd.isna(text) or text == 'Unknown':\n",
    "        return \"\"\n",
    "    \n",
    "    # Convertir a string y limpiar\n",
    "    text = str(text).lower()\n",
    "    # Remover caracteres especiales excepto espacios y comas\n",
    "    text = re.sub(r'[^\\w\\s,]', '', text)\n",
    "    # Remover espacios extra\n",
    "    text = re.sub(r'\\s+', ' ', text).strip()\n",
    "    # Reemplazar comas con espacios\n",
    "    text = text.replace(',', ' ')\n",
    "    \n",
    "    return text\n",
    "\n",
    "# Aplicar limpieza a características principales\n",
    "feature_columns = ['genres', 'director', 'cast', 'description', 'country']\n",
    "for col in feature_columns:\n",
    "    if col in netflix_clean.columns:\n",
    "        netflix_clean[f'clean_{col}'] = netflix_clean[col].apply(clean_text_feature)\n",
    "\n",
    "print(\"Características limpias creadas:\")\n",
    "clean_features = [col for col in netflix_clean.columns if col.startswith('clean_')]\n",
    "print(clean_features)"
   ]
  },
  {
   "cell_type": "markdown",
   "id": "ddf8468d-f637-49b5-bbbd-960c58f821d0",
   "metadata": {},
   "source": [
    "#### Análisis Exploratorio de Datos (EDA) Mejorado\n",
    "Descripción: Análisis visual del contenido de Netflix con las nuevas características disponibles."
   ]
  },
  {
   "cell_type": "markdown",
   "id": "6632bf25-9e65-41b4-bfd4-d561042b7e44",
   "metadata": {},
   "source": [
    "Análisis de Distribución Básica"
   ]
  },
  {
   "cell_type": "code",
   "execution_count": 36,
   "id": "f4c2cf28-3200-4fd0-87ce-f60fc2d747e4",
   "metadata": {},
   "outputs": [
    {
     "data": {
      "text/plain": [
       "Text(0.5, 1.0, 'Movies vs TV Shows (2025)')"
      ]
     },
     "execution_count": 36,
     "metadata": {},
     "output_type": "execute_result"
    },
    {
     "data": {
      "image/png": "[encoded data removed]",
      "text/plain": [
       "<Figure size 1500x1000 with 1 Axes>"
      ]
     },
     "metadata": {},
     "output_type": "display_data"
    }
   ],
   "source": [
    "# Análisis de tipos de contenido\n",
    "plt.figure(figsize=(15, 10))\n",
    "\n",
    "# Movies vs TV Shows\n",
    "plt.subplot(2, 3, 1)\n",
    "type_counts = netflix_clean['type'].value_counts()\n",
    "plt.pie(type_counts.values, labels=type_counts.index, autopct='%1.1f%%')\n",
    "plt.title('Movies vs TV Shows (2025)')"
   ]
  },
  {
   "cell_type": "code",
   "execution_count": 40,
   "id": "bf6de452-3df3-4963-ae25-9b258ec8f15c",
   "metadata": {},
   "outputs": [
    {
     "data": {
      "text/plain": [
       "Text(0.5, 0, 'Frecuencia')"
      ]
     },
     "execution_count": 40,
     "metadata": {},
     "output_type": "execute_result"
    },
    {
     "data": {
      "image/png": "[encoded data removed]",
      "text/plain": [
       "<Figure size 800x550 with 1 Axes>"
      ]
     },
     "metadata": {},
     "output_type": "display_data"
    }
   ],
   "source": [
    "# Top 15 géneros\n",
    "plt.subplot(2, 3, 2)\n",
    "all_genres = []\n",
    "for genres in netflix_clean['genres'].dropna():\n",
    "    if genres != 'Unknown':\n",
    "        all_genres.extend([g.strip() for g in str(genres).split(',')])\n",
    "genre_counts = Counter(all_genres)\n",
    "top_genres = dict(genre_counts.most_common(15))\n",
    "plt.barh(list(top_genres.keys()), list(top_genres.values()))\n",
    "plt.title('Top 15 Géneros Más Populares')\n",
    "plt.xlabel('Frecuencia')\n"
   ]
  },
  {
   "cell_type": "code",
   "execution_count": 42,
   "id": "9ab7521a-e4d1-40a2-9a8e-06023781e4e2",
   "metadata": {},
   "outputs": [
    {
     "data": {
      "text/plain": [
       "Text(0, 0.5, 'Frecuencia')"
      ]
     },
     "execution_count": 42,
     "metadata": {},
     "output_type": "execute_result"
    },
    {
     "data": {
      "image/png": "[encoded data removed]",
      "text/plain": [
       "<Figure size 800x550 with 1 Axes>"
      ]
     },
     "metadata": {},
     "output_type": "display_data"
    }
   ],
   "source": [
    "# Distribución de ratings promedio\n",
    "plt.subplot(2, 3, 3)\n",
    "plt.hist(netflix_clean['vote_average'].dropna(), bins=20, alpha=0.7, edgecolor='black')\n",
    "plt.title('Distribución de Ratings (Vote Average)')\n",
    "plt.xlabel('Rating Promedio')\n",
    "plt.ylabel('Frecuencia')"
   ]
  },
  {
   "cell_type": "code",
   "execution_count": 44,
   "id": "7c584b27-172a-45bf-b6f2-059f4cce5c1e",
   "metadata": {},
   "outputs": [
    {
     "data": {
      "text/plain": [
       "Text(0.5, 0, 'Cantidad de Títulos')"
      ]
     },
     "execution_count": 44,
     "metadata": {},
     "output_type": "execute_result"
    },
    {
     "data": {
      "image/png": "[encoded data removed]",
      "text/plain": [
       "<Figure size 800x550 with 1 Axes>"
      ]
     },
     "metadata": {},
     "output_type": "display_data"
    }
   ],
   "source": [
    "# Top 10 países\n",
    "plt.subplot(2, 3, 4)\n",
    "all_countries = []\n",
    "for countries in netflix_clean['country'].dropna():\n",
    "    if countries != 'Unknown':\n",
    "        all_countries.extend([c.strip() for c in str(countries).split(',')])\n",
    "country_counts = Counter(all_countries)\n",
    "top_countries = dict(country_counts.most_common(10))\n",
    "plt.barh(list(top_countries.keys()), list(top_countries.values()))\n",
    "plt.title('Top 10 Países Productores')\n",
    "plt.xlabel('Cantidad de Títulos')"
   ]
  },
  {
   "cell_type": "code",
   "execution_count": 46,
   "id": "6c88d150-46a2-41ab-88c9-edf6dd2cd209",
   "metadata": {},
   "outputs": [
    {
     "data": {
      "text/plain": [
       "Text(0.5, 1.0, 'Popularidad vs Rating')"
      ]
     },
     "execution_count": 46,
     "metadata": {},
     "output_type": "execute_result"
    },
    {
     "data": {
      "image/png": "[encoded data removed]",
      "text/plain": [
       "<Figure size 800x550 with 1 Axes>"
      ]
     },
     "metadata": {},
     "output_type": "display_data"
    }
   ],
   "source": [
    "# Popularidad vs Rating\n",
    "plt.subplot(2, 3, 5)\n",
    "valid_data = netflix_clean[(netflix_clean['popularity'] > 0) & (netflix_clean['vote_average'] > 0)]\n",
    "plt.scatter(valid_data['popularity'], valid_data['vote_average'], alpha=0.6)\n",
    "plt.xlabel('Popularidad')\n",
    "plt.ylabel('Rating Promedio')\n",
    "plt.title('Popularidad vs Rating')\n"
   ]
  },
  {
   "cell_type": "markdown",
   "id": "1c931f66-b014-4606-875f-d67efd59b114",
   "metadata": {},
   "source": [
    "### Análisis de Top Contenido"
   ]
  },
  {
   "cell_type": "code",
   "execution_count": 52,
   "id": "d61b0d36-cbd8-49b4-bb5c-d176bc0b1f60",
   "metadata": {},
   "outputs": [
    {
     "name": "stdout",
     "output_type": "stream",
     "text": [
      "TOP 10 CONTENIDO MEJOR VALORADO:\n",
      "==================================================\n",
      "Nude (Movie) - Rating: 9.5 - Votos: 161\n",
      "Succubus (Movie) - Rating: 9.5 - Votos: 157\n",
      "Kill Shot (Movie) - Rating: 9.3 - Votos: 158\n",
      "Break the Silence: The Movie (Movie) - Rating: 9.0 - Votos: 183\n",
      "The Three Deaths of Marisela Escobedo (Movie) - Rating: 8.9 - Votos: 228\n",
      "BTS: Permission to Dance on Stage - LA (Movie) - Rating: 8.9 - Votos: 157\n",
      "The Good Bad Mother (TV Show) - Rating: 8.9 - Votos: 149\n",
      "Adventure Time: Fionna & Cake (TV Show) - Rating: 8.9 - Votos: 208\n",
      "The Boy's Word: Blood on the Asphalt (TV Show) - Rating: 8.9 - Votos: 182\n",
      "Arcane (TV Show) - Rating: 8.8 - Votos: 4932\n",
      "\n",
      "\n",
      "TOP 10 CONTENIDO MÁS POPULAR:\n",
      "==================================================\n",
      "The Late Show with Stephen Colbert (TV Show) - Popularidad: 6421.9\n",
      "The Tonight Show Starring Jimmy Fallon (TV Show) - Popularidad: 4925.3\n",
      "The Gorge (Movie) - Popularidad: 3876.0\n",
      "Good Mythical Morning (TV Show) - Popularidad: 3414.5\n",
      "Flight Risk (Movie) - Popularidad: 3320.6\n",
      "Chronicles of the Sun (TV Show) - Popularidad: 2987.5\n",
      "Volta por Cima (TV Show) - Popularidad: 2885.7\n",
      "She's the One (TV Show) - Popularidad: 2862.9\n",
      "Mufasa: The Lion King (Movie) - Popularidad: 2643.6\n",
      "Crazy About You (TV Show) - Popularidad: 2442.2\n"
     ]
    }
   ],
   "source": [
    "# Top 10 películas/series mejor valoradas\n",
    "print(\"TOP 10 CONTENIDO MEJOR VALORADO:\")\n",
    "print(\"=\"*50)\n",
    "top_rated = netflix_clean[netflix_clean['vote_count'] >= 100].nlargest(10, 'vote_average')\n",
    "for idx, row in top_rated.iterrows():\n",
    "    print(f\"{row['title']} ({row['type']}) - Rating: {row['vote_average']:.1f} - Votos: {row['vote_count']}\")\n",
    "\n",
    "# Top 10 contenido más popular\n",
    "print(\"\\n\\nTOP 10 CONTENIDO MÁS POPULAR:\")\n",
    "print(\"=\"*50)\n",
    "top_popular = netflix_clean.nlargest(10, 'popularity')\n",
    "for idx, row in top_popular.iterrows():\n",
    "    print(f\"{row['title']} ({row['type']}) - Popularidad: {row['popularity']:.1f}\")"
   ]
  },
  {
   "cell_type": "markdown",
   "id": "65d56c83-6ec6-4ccd-99b7-27afe36b4ab6",
   "metadata": {},
   "source": [
    "### Sistema de Recomendaciones Básico (Solo Descripción)\n",
    "Descripción: Sistema simple basado únicamente en las descripciones del contenido."
   ]
  },
  {
   "cell_type": "markdown",
   "id": "632ab6b5-427f-4897-a120-828a3bdbb5f7",
   "metadata": {},
   "source": [
    "Creación de Matriz TF-IDF"
   ]
  },
  {
   "cell_type": "code",
   "execution_count": 57,
   "id": "cb9dea3d-94a3-4c8f-8aa4-e587881fc530",
   "metadata": {},
   "outputs": [
    {
     "name": "stdout",
     "output_type": "stream",
     "text": [
      "Creando sistema de recomendaciones básico...\n",
      "Matriz TF-IDF creada: (32000, 5000)\n",
      "Matriz de similitud básica: (32000, 32000)\n"
     ]
    }
   ],
   "source": [
    "# Preparar descripciones para TF-IDF\n",
    "print(\"Creando sistema de recomendaciones básico...\")\n",
    "\n",
    "# Limpiar descripciones\n",
    "netflix_clean['description_clean'] = netflix_clean['description'].fillna('').apply(clean_text_feature)\n",
    "\n",
    "# Crear vectorizador TF-IDF\n",
    "tfidf_vectorizer = TfidfVectorizer(\n",
    "    max_features=5000,\n",
    "    stop_words='english',\n",
    "    ngram_range=(1, 2),\n",
    "    min_df=2,\n",
    "    max_df=0.8\n",
    ")\n",
    "\n",
    "# Crear matriz TF-IDF\n",
    "tfidf_matrix = tfidf_vectorizer.fit_transform(netflix_clean['description_clean'])\n",
    "print(f\"Matriz TF-IDF creada: {tfidf_matrix.shape}\")\n",
    "\n",
    "# Calcular similitud coseno\n",
    "cosine_sim_basic = linear_kernel(tfidf_matrix, tfidf_matrix)\n",
    "print(f\"Matriz de similitud básica: {cosine_sim_basic.shape}\")"
   ]
  },
  {
   "cell_type": "markdown",
   "id": "a9986c48-e13d-45dd-99ab-b7487bbbe4f2",
   "metadata": {},
   "source": [
    " Función de Recomendaciones Básica"
   ]
  },
  {
   "cell_type": "code",
   "execution_count": 60,
   "id": "624d69a8-88b0-4d67-ba55-7df43f8b51d1",
   "metadata": {},
   "outputs": [
    {
     "name": "stdout",
     "output_type": "stream",
     "text": [
      "PRUEBA DEL SISTEMA BÁSICO:\n",
      "========================================\n",
      "Recomendaciones para: 'Shrek Forever After'\n",
      "                                         title     type  vote_average\n",
      "1316                    This Must Be the Place    Movie         7.000\n",
      "4883   The Disappearance of Eleanor Rigby: Him    Movie         6.700\n",
      "4661   The Disappearance of Eleanor Rigby: Her    Movie         6.700\n",
      "30923                      A Love So Beautiful  TV Show         8.500\n",
      "5789                       Sanjay's Super Team    Movie         6.422\n"
     ]
    }
   ],
   "source": [
    "# Crear índices para búsqueda rápida\n",
    "indices_basic = pd.Series(netflix_clean.index, index=netflix_clean['title']).drop_duplicates()\n",
    "\n",
    "def get_basic_recommendations(title, num_recommendations=10):\n",
    "    \"\"\"\n",
    "    Sistema básico de recomendaciones basado solo en descripciones\n",
    "    \"\"\"\n",
    "    try:\n",
    "        # Buscar índice del título\n",
    "        idx = indices_basic[title]\n",
    "        \n",
    "        # Obtener puntuaciones de similitud\n",
    "        sim_scores = list(enumerate(cosine_sim_basic[idx]))\n",
    "        \n",
    "        # Ordenar por similitud\n",
    "        sim_scores = sorted(sim_scores, key=lambda x: x[1], reverse=True)\n",
    "        \n",
    "        # Obtener top recomendaciones (excluyendo el título original)\n",
    "        sim_scores = sim_scores[1:num_recommendations+1]\n",
    "        \n",
    "        # Obtener índices\n",
    "        movie_indices = [i[0] for i in sim_scores]\n",
    "        \n",
    "        # Devolver información completa\n",
    "        recommendations = netflix_clean.iloc[movie_indices][\n",
    "            ['title', 'type', 'genres', 'vote_average', 'popularity']\n",
    "        ]\n",
    "        \n",
    "        return recommendations\n",
    "        \n",
    "    except KeyError:\n",
    "        print(f\"Título '{title}' no encontrado en el dataset\")\n",
    "        available_titles = netflix_clean['title'].str.contains(title, case=False, na=False)\n",
    "        suggestions = netflix_clean[available_titles]['title'].head(5).tolist()\n",
    "        if suggestions:\n",
    "            print(f\"Títulos similares encontrados: {suggestions}\")\n",
    "        return None\n",
    "\n",
    "# Prueba del sistema básico\n",
    "print(\"PRUEBA DEL SISTEMA BÁSICO:\")\n",
    "print(\"=\"*40)\n",
    "test_title = netflix_clean['title'].iloc[0]\n",
    "print(f\"Recomendaciones para: '{test_title}'\")\n",
    "basic_recs = get_basic_recommendations(test_title, 5)\n",
    "if basic_recs is not None:\n",
    "    print(basic_recs[['title', 'type', 'vote_average']])"
   ]
  },
  {
   "cell_type": "markdown",
   "id": "5e2d36fc-3377-4971-87f7-e203f866bed5",
   "metadata": {},
   "source": [
    "#### Sistema de Recomendaciones Avanzado (Múltiples Características)\n",
    "Descripción: Sistema mejorado que combina múltiples características del contenido.\n",
    "\n",
    "Creación del \"Soup\" Mejorado"
   ]
  },
  {
   "cell_type": "code",
   "execution_count": 64,
   "id": "e20859f8-121e-44e5-895a-0634708fd932",
   "metadata": {},
   "outputs": [
    {
     "name": "stdout",
     "output_type": "stream",
     "text": [
      "Creando características combinadas mejoradas...\n",
      "Ejemplo de soup mejorado:\n",
      "Título: Shrek Forever After\n",
      "Soup: shrekforeverafter comedy  adventure  fantasy  animation  family comedy  adventure  fantasy  animation  family mike mitchell mike mitchell mike myers  eddie murphy  cameron diaz  antonio banderas  walt...\n"
     ]
    }
   ],
   "source": [
    "# Función para crear soup mejorado con todas las características\n",
    "def create_enhanced_soup(row):\n",
    "    \"\"\"\n",
    "    Crea una representación textual combinada de todas las características relevantes\n",
    "    \"\"\"\n",
    "    # Características principales\n",
    "    title = str(row.get('title', '')).lower().replace(' ', '')\n",
    "    genres = str(row.get('clean_genres', ''))\n",
    "    director = str(row.get('clean_director', ''))\n",
    "    cast = str(row.get('clean_cast', ''))\n",
    "    description = str(row.get('clean_description', ''))\n",
    "    country = str(row.get('clean_country', ''))\n",
    "    \n",
    "    # Ponderación: géneros y director tienen más peso\n",
    "    soup = (\n",
    "        f\"{title} \" +\n",
    "        f\"{genres} {genres} \" +  # Géneros con doble peso\n",
    "        f\"{director} {director} \" +  # Director con doble peso\n",
    "        f\"{cast} \" +\n",
    "        f\"{description} \" +\n",
    "        f\"{country}\"\n",
    "    )\n",
    "    \n",
    "    return soup.strip()\n",
    "\n",
    "# Crear soup para todo el dataset\n",
    "print(\"Creando características combinadas mejoradas...\")\n",
    "netflix_clean['enhanced_soup'] = netflix_clean.apply(create_enhanced_soup, axis=1)\n",
    "\n",
    "# Mostrar ejemplo de soup\n",
    "print(\"Ejemplo de soup mejorado:\")\n",
    "print(f\"Título: {netflix_clean.iloc[0]['title']}\")\n",
    "print(f\"Soup: {netflix_clean.iloc[0]['enhanced_soup'][:200]}...\")"
   ]
  },
  {
   "cell_type": "markdown",
   "id": "439b8e9e-6f01-4ab6-96cf-f51e3dd5117a",
   "metadata": {},
   "source": [
    "Vectorización con CountVectorizer"
   ]
  },
  {
   "cell_type": "code",
   "execution_count": 67,
   "id": "92f815f7-86eb-4360-bf14-e40eafc999ea",
   "metadata": {},
   "outputs": [
    {
     "name": "stdout",
     "output_type": "stream",
     "text": [
      "Creando matriz de características mejorada...\n",
      "Matriz de características: (32000, 8000)\n",
      "Matriz de similitud mejorada: (32000, 32000)\n"
     ]
    }
   ],
   "source": [
    "# Crear vectorizador mejorado\n",
    "count_vectorizer = CountVectorizer(\n",
    "    max_features=8000,\n",
    "    stop_words='english',\n",
    "    ngram_range=(1, 3),\n",
    "    min_df=1,\n",
    "    max_df=0.9\n",
    ")\n",
    "\n",
    "# Crear matriz de características\n",
    "print(\"Creando matriz de características mejorada...\")\n",
    "count_matrix = count_vectorizer.fit_transform(netflix_clean['enhanced_soup'])\n",
    "print(f\"Matriz de características: {count_matrix.shape}\")\n",
    "\n",
    "# Calcular similitud coseno mejorada\n",
    "cosine_sim_enhanced = cosine_similarity(count_matrix, count_matrix)\n",
    "print(f\"Matriz de similitud mejorada: {cosine_sim_enhanced.shape}\")"
   ]
  },
  {
   "cell_type": "markdown",
   "id": "02225cfa-c54f-4c92-9ec9-445e9ada5768",
   "metadata": {},
   "source": [
    "#### Sistema de Recomendaciones Mejorado con Análisis Paso a Paso"
   ]
  },
  {
   "cell_type": "code",
   "execution_count": 73,
   "id": "616d4acd-69d6-4b98-b0d2-270a12e06456",
   "metadata": {},
   "outputs": [],
   "source": [
    "# Crear índices para el sistema mejorado\n",
    "netflix_clean_reset = netflix_clean.reset_index(drop=True)\n",
    "indices_enhanced = pd.Series(netflix_clean_reset.index, index=netflix_clean_reset['title']).drop_duplicates()\n",
    "\n",
    "def normalize_title_search(title):\n",
    "    \"\"\"\n",
    "    Normaliza título para búsqueda flexible\n",
    "    \"\"\"\n",
    "    return title.lower().strip()\n",
    "\n",
    "def find_similar_titles(search_title, dataset, max_suggestions=5):\n",
    "    \"\"\"\n",
    "    Encuentra títulos similares si no se encuentra coincidencia exacta\n",
    "    \"\"\"\n",
    "    normalized_search = normalize_title_search(search_title)\n",
    "    \n",
    "    # Buscar coincidencias parciales\n",
    "    partial_matches = dataset[\n",
    "        dataset['title'].str.lower().str.contains(normalized_search, na=False)\n",
    "    ]['title'].head(max_suggestions).tolist()\n",
    "    \n",
    "    return partial_matches\n",
    "\n",
    "def get_enhanced_recommendations_detailed(title, num_recommendations=10):\n",
    "    \"\"\"\n",
    "    Sistema avanzado de recomendaciones con análisis detallado paso a paso\n",
    "    \"\"\"\n",
    "    print(f\"\\n{'='*60}\")\n",
    "    print(f\"SISTEMA AVANZADO DE RECOMENDACIONES\")\n",
    "    print(f\"Búsqueda para: '{title}'\")\n",
    "    print(f\"{'='*60}\")\n",
    "    \n",
    "    # Paso 1: Búsqueda del título\n",
    "    try:\n",
    "        idx = indices_enhanced[title]\n",
    "        print(f\"✓ Título encontrado en índice: {idx}\")\n",
    "    except KeyError:\n",
    "        print(f\"✗ Título '{title}' no encontrado exactamente\")\n",
    "        suggestions = find_similar_titles(title, netflix_clean_reset)\n",
    "        if suggestions:\n",
    "            print(f\"Títulos similares encontrados:\")\n",
    "            for i, suggestion in enumerate(suggestions, 1):\n",
    "                print(f\"  {i}. {suggestion}\")\n",
    "        return None\n",
    "    \n",
    "    # Paso 2: Obtener información del título original\n",
    "    original_item = netflix_clean_reset.iloc[idx]\n",
    "    print(f\"\\nINFORMACIÓN DEL TÍTULO ORIGINAL:\")\n",
    "    print(f\"  Tipo: {original_item['type']}\")\n",
    "    print(f\"  Géneros: {original_item['genres']}\")\n",
    "    print(f\"  Director: {original_item['director']}\")\n",
    "    print(f\"  Rating: {original_item['vote_average']:.1f}\")\n",
    "    print(f\"  Popularidad: {original_item['popularity']:.1f}\")\n",
    "    \n",
    "    # Paso 3: Calcular similitudes\n",
    "    print(f\"\\nCALCULANDO SIMILITUDES...\")\n",
    "    sim_scores = list(enumerate(cosine_sim_enhanced[idx]))\n",
    "    print(f\"  Similitudes calculadas para {len(sim_scores)} títulos\")\n",
    "    \n",
    "    # Paso 4: Ordenar y seleccionar mejores\n",
    "    sim_scores = sorted(sim_scores, key=lambda x: x[1], reverse=True)\n",
    "    print(f\"  Mejor similitud encontrada: {sim_scores[0][1]:.4f} (título original)\")\n",
    "    print(f\"  Segunda mejor similitud: {sim_scores[1][1]:.4f}\")\n",
    "    \n",
    "    # Obtener recomendaciones (excluyendo original)\n",
    "    top_scores = sim_scores[1:num_recommendations+1]\n",
    "    movie_indices = [i[0] for i in top_scores]\n",
    "    \n",
    "    # Paso 5: Generar recomendaciones detalladas\n",
    "    print(f\"\\nTOP {num_recommendations} RECOMENDACIONES:\")\n",
    "    print(f\"{'-'*60}\")\n",
    "    \n",
    "    recommendations_detailed = []\n",
    "    for i, (original_idx, similarity) in enumerate(top_scores, 1):\n",
    "        rec_item = netflix_clean_reset.iloc[original_idx]\n",
    "        \n",
    "        rec_info = {\n",
    "            'rank': i,\n",
    "            'title': rec_item['title'],\n",
    "            'type': rec_item['type'],\n",
    "            'genres': rec_item['genres'],\n",
    "            'director': rec_item['director'],\n",
    "            'vote_average': rec_item['vote_average'],\n",
    "            'popularity': rec_item['popularity'],\n",
    "            'similarity_score': similarity\n",
    "        }\n",
    "        \n",
    "        recommendations_detailed.append(rec_info)\n",
    "        \n",
    "        print(f\"{i:2}. {rec_item['title']} ({rec_item['type']})\")\n",
    "        print(f\"    Similitud: {similarity:.4f}\")\n",
    "        print(f\"    Géneros: {rec_item['genres']}\")\n",
    "        print(f\"    Rating: {rec_item['vote_average']:.1f} | Popularidad: {rec_item['popularity']:.1f}\")\n",
    "        print()\n",
    "    \n",
    "    return pd.DataFrame(recommendations_detailed)\n",
    "\n",
    "# Función simplificada para uso rápido\n",
    "def get_enhanced_recommendations(title, num_recommendations=10):\n",
    "    \"\"\"\n",
    "    Versión simplificada del sistema avanzado\n",
    "    \"\"\"\n",
    "    try:\n",
    "        idx = indices_enhanced[title]\n",
    "        sim_scores = list(enumerate(cosine_sim_enhanced[idx]))\n",
    "        sim_scores = sorted(sim_scores, key=lambda x: x[1], reverse=True)\n",
    "        sim_scores = sim_scores[1:num_recommendations+1]\n",
    "        movie_indices = [i[0] for i in sim_scores]\n",
    "        \n",
    "        return netflix_clean_reset.iloc[movie_indices][\n",
    "            ['title', 'type', 'genres', 'vote_average', 'popularity']\n",
    "        ]\n",
    "    except KeyError:\n",
    "        return find_similar_titles(title, netflix_clean_reset)"
   ]
  },
  {
   "cell_type": "markdown",
   "id": "5a7833d3-f5bc-4c01-8b4c-71977acd3397",
   "metadata": {},
   "source": [
    "#### Pruebas del Sistema Completo\n",
    "Descripción: Pruebas exhaustivas del sistema de recomendaciones con diferentes tipos de contenido."
   ]
  },
  {
   "cell_type": "code",
   "execution_count": 76,
   "id": "b04ddb98-a5ed-480a-a2f2-dfd3ff98d6f7",
   "metadata": {},
   "outputs": [
    {
     "name": "stdout",
     "output_type": "stream",
     "text": [
      "PRUEBA 1: PELÍCULA POPULAR\n",
      "\n",
      "============================================================\n",
      "SISTEMA AVANZADO DE RECOMENDACIONES\n",
      "Búsqueda para: 'Inception'\n",
      "============================================================\n",
      "✓ Título encontrado en índice: 1\n",
      "\n",
      "INFORMACIÓN DEL TÍTULO ORIGINAL:\n",
      "  Tipo: Movie\n",
      "  Géneros: Action, Science Fiction, Adventure\n",
      "  Director: Christopher Nolan\n",
      "  Rating: 8.4\n",
      "  Popularidad: 156.2\n",
      "\n",
      "CALCULANDO SIMILITUDES...\n",
      "  Similitudes calculadas para 32000 títulos\n",
      "  Mejor similitud encontrada: 1.0000 (título original)\n",
      "  Segunda mejor similitud: 0.6281\n",
      "\n",
      "TOP 5 RECOMENDACIONES:\n",
      "------------------------------------------------------------\n",
      " 1. Apocalypse of Ice (Movie)\n",
      "    Similitud: 0.6281\n",
      "    Géneros: Science Fiction, Adventure, Action\n",
      "    Rating: 3.8 | Popularidad: 6.5\n",
      "\n",
      " 2. Moonfall (Movie)\n",
      "    Similitud: 0.6233\n",
      "    Géneros: Science Fiction, Adventure, Action\n",
      "    Rating: 6.3 | Popularidad: 50.7\n",
      "\n",
      " 3. Battle of the Damned (Movie)\n",
      "    Similitud: 0.6232\n",
      "    Géneros: Action, Science Fiction, Adventure\n",
      "    Rating: 4.6 | Popularidad: 8.8\n",
      "\n",
      " 4. Star Trek: Section 31 (Movie)\n",
      "    Similitud: 0.6165\n",
      "    Géneros: Science Fiction, Adventure, Action\n",
      "    Rating: 4.8 | Popularidad: 347.4\n",
      "\n",
      " 5. Venom: The Last Dance (Movie)\n",
      "    Similitud: 0.6151\n",
      "    Géneros: Action, Science Fiction, Adventure\n",
      "    Rating: 6.8 | Popularidad: 931.7\n",
      "\n"
     ]
    }
   ],
   "source": [
    "# Prueba 1: Película popular\n",
    "print(\"PRUEBA 1: PELÍCULA POPULAR\")\n",
    "if 'Inception' in netflix_clean_reset['title'].values:\n",
    "    inception_recs = get_enhanced_recommendations_detailed('Inception', 5)\n",
    "else:\n",
    "    # Usar primera película disponible\n",
    "    sample_movie = netflix_clean_reset[netflix_clean_reset['type'] == 'Movie']['title'].iloc[0]\n",
    "    print(f\"Usando película de muestra: {sample_movie}\")\n",
    "    movie_recs = get_enhanced_recommendations_detailed(sample_movie, 5)"
   ]
  },
  {
   "cell_type": "markdown",
   "id": "64f788de-c6f3-4a33-9443-164c3a405808",
   "metadata": {},
   "source": [
    "#### Análisis de Rendimiento del Sistema\n",
    "Descripción: Evaluación del rendimiento y calidad de las recomendaciones."
   ]
  },
  {
   "cell_type": "code",
   "execution_count": 79,
   "id": "d781c19b-552b-4c8a-80ef-8ce56e2bfd2f",
   "metadata": {},
   "outputs": [],
   "source": [
    "# Función para analizar calidad de recomendaciones\n",
    "def analyze_recommendation_quality(original_title, recommendations_df):\n",
    "    \"\"\"\n",
    "    Analiza la calidad de las recomendaciones generadas\n",
    "    \"\"\"\n",
    "    if recommendations_df is None or len(recommendations_df) == 0:\n",
    "        return None\n",
    "    \n",
    "    # Obtener información del título original\n",
    "    original_idx = indices_enhanced[original_title]\n",
    "    original_item = netflix_clean_reset.iloc[original_idx]\n",
    "    \n",
    "    print(f\"\\nANÁLISIS DE CALIDAD DE RECOMENDACIONES\")\n",
    "    print(f\"{'='*50}\")\n",
    "    print(f\"Título original: {original_title}\")\n",
    "    print(f\"Tipo original: {original_item['type']}\")\n",
    "    print(f\"Géneros originales: {original_item['genres']}\")\n",
    "    \n",
    "    # Análisis de coincidencias de tipo\n",
    "    same_type = sum(1 for _, rec in recommendations_df.iterrows() if rec['type'] == original_item['type'])\n",
    "    print(f\"\\nCoincidencias de tipo: {same_type}/{len(recommendations_df)} ({same_type/len(recommendations_df)*100:.1f}%)\")\n",
    "    \n",
    "    # Análisis de géneros similares\n",
    "    original_genres = set(str(original_item['genres']).lower().split(','))\n",
    "    genre_overlaps = []\n",
    "    \n",
    "    for _, rec in recommendations_df.iterrows():\n",
    "        rec_genres = set(str(rec['genres']).lower().split(','))\n",
    "        overlap = len(original_genres.intersection(rec_genres))\n",
    "        genre_overlaps.append(overlap)\n",
    "    \n",
    "    avg_genre_overlap = np.mean(genre_overlaps)\n",
    "    print(f\"Promedio de géneros coincidentes: {avg_genre_overlap:.1f}\")\n",
    "    \n",
    "    # Análisis de ratings\n",
    "    avg_rating = recommendations_df['vote_average'].mean()\n",
    "    original_rating = original_item['vote_average']\n",
    "    print(f\"Rating promedio recomendaciones: {avg_rating:.1f}\")\n",
    "    print(f\"Rating original: {original_rating:.1f}\")\n",
    "    \n",
    "    # Análisis de similitud\n",
    "    avg_similarity = recommendations_df['similarity_score'].mean()\n",
    "    print(f\"Similitud promedio: {avg_similarity:.4f}\")\n",
    "    \n",
    "    return {\n",
    "        'same_type_percentage': same_type/len(recommendations_df)*100,\n",
    "        'avg_genre_overlap': avg_genre_overlap,\n",
    "        'avg_rating': avg_rating,\n",
    "        'avg_similarity': avg_similarity\n",
    "    }\n",
    "\n",
    "# Realizar análisis de calidad en las pruebas anteriores\n",
    "if 'movie_recs' in locals() and movie_recs is not None:\n",
    "    quality_analysis = analyze_recommendation_quality(sample_movie, movie_recs)"
   ]
  },
  {
   "cell_type": "markdown",
   "id": "e57b94ab-1a67-407c-a97c-55395a027b01",
   "metadata": {},
   "source": [
    "#### Función de Búsqueda Inteligente\n",
    "Descripción: Sistema de búsqueda que maneja múltiples variaciones de títulos."
   ]
  },
  {
   "cell_type": "code",
   "execution_count": 82,
   "id": "d56e6d7c-37dc-42c7-84d9-b4cfc35bd930",
   "metadata": {},
   "outputs": [
    {
     "name": "stdout",
     "output_type": "stream",
     "text": [
      "\n",
      "****************************************\n",
      "Probando búsqueda: 'Shrek'\n",
      "\n",
      "============================================================\n",
      "SISTEMA AVANZADO DE RECOMENDACIONES\n",
      "Búsqueda para: 'Shrek Forever After'\n",
      "============================================================\n",
      "✓ Título encontrado en índice: 0\n",
      "\n",
      "INFORMACIÓN DEL TÍTULO ORIGINAL:\n",
      "  Tipo: Movie\n",
      "  Géneros: Comedy, Adventure, Fantasy, Animation, Family\n",
      "  Director: Mike Mitchell\n",
      "  Rating: 6.4\n",
      "  Popularidad: 203.9\n",
      "\n",
      "CALCULANDO SIMILITUDES...\n",
      "  Similitudes calculadas para 32000 títulos\n",
      "  Mejor similitud encontrada: 1.0000 (título original)\n",
      "  Segunda mejor similitud: 0.6025\n",
      "\n",
      "TOP 3 RECOMENDACIONES:\n",
      "------------------------------------------------------------\n",
      " 1. The Loud House Movie (Movie)\n",
      "    Similitud: 0.6025\n",
      "    Géneros: Animation, Family, Comedy, Adventure, Fantasy\n",
      "    Rating: 7.3 | Popularidad: 18.3\n",
      "\n",
      " 2. Marmaduke (Movie)\n",
      "    Similitud: 0.4615\n",
      "    Géneros: Animation, Family, Comedy, Adventure\n",
      "    Rating: 5.0 | Popularidad: 14.8\n",
      "\n",
      " 3. Donkey's Christmas Shrektacular (Movie)\n",
      "    Similitud: 0.4519\n",
      "    Géneros: Fantasy, Animation, Comedy, Family\n",
      "    Rating: 5.9 | Popularidad: 14.2\n",
      "\n",
      "✓ Recomendaciones generadas exitosamente\n"
     ]
    }
   ],
   "source": [
    "def intelligent_search_and_recommend(search_query, num_recommendations=5, show_process=True):\n",
    "    \"\"\"\n",
    "    Sistema de búsqueda inteligente que maneja variaciones de títulos\n",
    "    \"\"\"\n",
    "    if show_process:\n",
    "        print(f\"\\n{'='*60}\")\n",
    "        print(f\"BÚSQUEDA INTELIGENTE: '{search_query}'\")\n",
    "        print(f\"{'='*60}\")\n",
    "    \n",
    "    # Intentar búsqueda exacta\n",
    "    if search_query in indices_enhanced:\n",
    "        if show_process:\n",
    "            print(\"✓ Coincidencia exacta encontrada\")\n",
    "        return get_enhanced_recommendations_detailed(search_query, num_recommendations)\n",
    "    \n",
    "    # Búsqueda flexible\n",
    "    normalized_query = normalize_title_search(search_query)\n",
    "    \n",
    "    # Buscar coincidencias parciales\n",
    "    partial_matches = netflix_clean_reset[\n",
    "        netflix_clean_reset['title'].str.lower().str.contains(normalized_query, na=False, regex=False)\n",
    "    ]\n",
    "    \n",
    "    if len(partial_matches) > 0:\n",
    "        if show_process:\n",
    "            print(f\"✓ Encontradas {len(partial_matches)} coincidencias parciales:\")\n",
    "            for i, title in enumerate(partial_matches['title'].head(3), 1):\n",
    "                print(f\"  {i}. {title}\")\n",
    "        \n",
    "        # Usar la primera coincidencia para recomendaciones\n",
    "        best_match = partial_matches.iloc[0]['title']\n",
    "        if show_process:\n",
    "            print(f\"\\nUsando mejor coincidencia: '{best_match}'\")\n",
    "        \n",
    "        return get_enhanced_recommendations_detailed(best_match, num_recommendations)\n",
    "    \n",
    "    else:\n",
    "        if show_process:\n",
    "            print(\"✗ No se encontraron coincidencias\")\n",
    "            print(\"Sugerencias:\")\n",
    "            print(\"  - Verifique la ortografía del título\")\n",
    "            print(\"  - Intente con palabras clave del título\")\n",
    "            print(\"  - Use términos en inglés si es una producción internacional\")\n",
    "        \n",
    "        return None\n",
    "\n",
    "# Ejemplos de búsqueda inteligente\n",
    "test_searches = [\"Shrek\", \"Inception\", \"Harry Potter\", \"Avengers\"]\n",
    "\n",
    "for search in test_searches:\n",
    "    if any(netflix_clean_reset['title'].str.contains(search, case=False, na=False)):\n",
    "        print(f\"\\n{'*'*40}\")\n",
    "        print(f\"Probando búsqueda: '{search}'\")\n",
    "        result = intelligent_search_and_recommend(search, 3, show_process=False)\n",
    "        if result is not None:\n",
    "            print(\"✓ Recomendaciones generadas exitosamente\")\n",
    "        break"
   ]
  }
 ],
 "metadata": {
  "kernelspec": {
   "display_name": "Python 3 (ipykernel)",
   "language": "python",
   "name": "python3"
  },
  "language_info": {
   "codemirror_mode": {
    "name": "ipython",
    "version": 3
   },
   "file_extension": ".py",
   "mimetype": "text/x-python",
   "name": "python",
   "nbconvert_exporter": "python",
   "pygments_lexer": "ipython3",
   "version": "3.12.7"
  }
 },
 "nbformat": 4,
 "nbformat_minor": 5
}

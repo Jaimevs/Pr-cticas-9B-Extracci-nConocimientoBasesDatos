{
 "cells": [
  {
   "cell_type": "markdown",
   "id": "c64de546-9ff4-4838-9050-128100fb09a9",
   "metadata": {},
   "source": [
    "### Sistema de Recomendaciones Netflix\n",
    "#### Jaime Vazquez Santiago"
   ]
  },
  {
   "cell_type": "markdown",
   "id": "14e6db80-ac32-4a89-8510-45eac71fc05a",
   "metadata": {},
   "source": [
    "##### Importación de todas las librerías necesarias para análisis de datos y visualización"
   ]
  },
  {
   "cell_type": "code",
   "execution_count": 136,
   "id": "fa1a7346-e312-4335-9cfd-b0a13a157d53",
   "metadata": {},
   "outputs": [
    {
     "name": "stdout",
     "output_type": "stream",
     "text": [
      "Hola\n"
     ]
    }
   ],
   "source": [
    "import numpy as np  # Librería para operaciones con arrays multidimensionales\n",
    "import pandas as pd  # Librería para manipulación y análisis de datos estructurados\n",
    "import matplotlib.pyplot as plt  # Librería para crear gráficos y visualizaciones\n",
    "import seaborn as sns  # Librería para visualizaciones estadísticas basada en matplotlib\n",
    "import warnings\n",
    "warnings.filterwarnings(\"ignore\")  # Ocultar advertencias para código más limpio\n",
    "\n",
    "print(\"Hola\")"
   ]
  },
  {
   "cell_type": "markdown",
   "id": "cea25143-5c6f-4739-9bb9-d8e147e883fb",
   "metadata": {},
   "source": [
    "Carga y Exploración Inicial del Dataset"
   ]
  },
  {
   "cell_type": "code",
   "execution_count": 138,
   "id": "85bb6526-1542-464f-b9f8-578ac8866875",
   "metadata": {},
   "outputs": [
    {
     "name": "stdout",
     "output_type": "stream",
     "text": [
      "<class 'pandas.core.frame.DataFrame'>\n",
      "RangeIndex: 7787 entries, 0 to 7786\n",
      "Data columns (total 12 columns):\n",
      " #   Column        Non-Null Count  Dtype \n",
      "---  ------        --------------  ----- \n",
      " 0   show_id       7787 non-null   object\n",
      " 1   type          7787 non-null   object\n",
      " 2   title         7787 non-null   object\n",
      " 3   director      5398 non-null   object\n",
      " 4   cast          7069 non-null   object\n",
      " 5   country       7281 non-null   object\n",
      " 6   date_added    7777 non-null   object\n",
      " 7   release_year  7787 non-null   int64 \n",
      " 8   rating        7780 non-null   object\n",
      " 9   duration      7787 non-null   object\n",
      " 10  listed_in     7787 non-null   object\n",
      " 11  description   7787 non-null   object\n",
      "dtypes: int64(1), object(11)\n",
      "memory usage: 730.2+ KB\n",
      "              unique count\n",
      "show_id               7787\n",
      "type                     2\n",
      "title                 7787\n",
      "director              4049\n",
      "cast                  6831\n",
      "country                681\n",
      "date_added            1565\n",
      "release_year            73\n",
      "rating                  14\n",
      "duration               216\n",
      "listed_in              492\n",
      "description           7769\n"
     ]
    }
   ],
   "source": [
    "# Cargar el dataset de Netflix\n",
    "netflix_dataset = pd.read_csv(\"netflix_dataset.csv\")\n",
    "\n",
    "# Mostrar las primeras 5 filas del dataset\n",
    "netflix_dataset.head()\n",
    "\n",
    "# Información general sobre el dataset (tipos de datos, valores nulos, etc.)\n",
    "netflix_dataset.info()\n",
    "\n",
    "# Contar valores únicos en cada columna para entender la distribución\n",
    "dict = {}\n",
    "for i in list(netflix_dataset.columns):\n",
    "    dict[i] = netflix_dataset[i].value_counts().shape[0]\n",
    "    \n",
    "print(pd.DataFrame(dict, index=[\"unique count\"]).transpose())\n",
    "\n"
   ]
  },
  {
   "cell_type": "code",
   "execution_count": 140,
   "id": "382a1cc6-9f94-4f1b-9df4-a17f5cbb611b",
   "metadata": {},
   "outputs": [
    {
     "name": "stdout",
     "output_type": "stream",
     "text": [
      "show_id            0\n",
      "type               0\n",
      "title              0\n",
      "director        2389\n",
      "cast             718\n",
      "country          506\n",
      "date_added        10\n",
      "release_year       0\n",
      "rating             7\n",
      "duration           0\n",
      "listed_in          0\n",
      "description        0\n",
      "dtype: int64\n"
     ]
    }
   ],
   "source": [
    "# Verificar valores faltantes en el dataset\n",
    "print(netflix_dataset.isnull().sum())"
   ]
  },
  {
   "cell_type": "markdown",
   "id": "2aa0f732-2bde-4b07-af26-4d769cc20d3d",
   "metadata": {},
   "source": [
    "Análisis Exploratorio de Datos (EDA)"
   ]
  },
  {
   "cell_type": "code",
   "execution_count": 142,
   "id": "fa37a7b0-8d60-4c8c-9bc3-64fc94ee3397",
   "metadata": {},
   "outputs": [
    {
     "data": {
      "image/png": "[encoded data removed]",
      "text/plain": [
       "<Figure size 1000x700 with 1 Axes>"
      ]
     },
     "metadata": {},
     "output_type": "display_data"
    }
   ],
   "source": [
    "# Separar el dataset en TV Shows y Movies\n",
    "netflix_shows = netflix_dataset[netflix_dataset['type'] == 'TV Show']\n",
    "netflix_movies = netflix_dataset[netflix_dataset['type'] == 'Movie']\n",
    "\n",
    "# Crear gráfico de barras para comparar Movies vs TV Shows\n",
    "plt.figure(figsize=(10, 7))\n",
    "sns.set(style=\"whitegrid\")\n",
    "ax = sns.countplot(x=\"type\", data=netflix_dataset, palette=\"Set1\")\n",
    "ax.set_title(\"TV Shows VS Movies\")\n",
    "plt.show()"
   ]
  },
  {
   "cell_type": "markdown",
   "id": "08c0f155-20a5-4769-a8d1-db5210b8ecc9",
   "metadata": {},
   "source": [
    "Análisis Temporal: Mejor Mes para Lanzar Contenido\n",
    "\n",
    "Descripción: Análisis de cuándo se agrega más contenido a Netflix para identificar oportunidades de lanzamiento."
   ]
  },
  {
   "cell_type": "code",
   "execution_count": 144,
   "id": "584d603b-d309-4592-9b2d-d0d48129df73",
   "metadata": {},
   "outputs": [
    {
     "data": {
      "image/png": "[encoded data removed]",
      "text/plain": [
       "<Figure size 2000x1400 with 2 Axes>"
      ]
     },
     "metadata": {},
     "output_type": "display_data"
    }
   ],
   "source": [
    "# Análisis temporal del contenido agregado por mes y año\n",
    "netflix_date = netflix_shows[['date_added']].dropna()\n",
    "netflix_date['year'] = netflix_date['date_added'].apply(lambda x: x.split(', ')[-1])\n",
    "netflix_date['month'] = netflix_date['date_added'].apply(lambda x: x.lstrip().split(' ')[0])\n",
    "\n",
    "# Definir orden de meses para el heatmap\n",
    "month_order = ['January', 'February', 'March', 'April', 'May', 'June', \n",
    "               'July', 'August', 'September', 'October', 'November', 'December'][::-1]\n",
    "\n",
    "# Crear matriz de contenido por año y mes\n",
    "df = netflix_date.groupby('year')['month'].value_counts().unstack().fillna(0)[month_order].T\n",
    "\n",
    "# Crear heatmap para visualizar patrones temporales\n",
    "plt.figure(figsize=(10, 7), dpi=200)\n",
    "plt.pcolor(df, cmap='afmhot_r', edgecolors='white', linewidths=2)\n",
    "plt.xticks(np.arange(0.5, len(df.columns), 1), df.columns, fontsize=7, fontfamily='serif')\n",
    "plt.yticks(np.arange(0.5, len(df.index), 1), df.index, fontsize=7, fontfamily='serif')\n",
    "plt.title('Netflix Contents Update - HeatMap for Analysis', fontsize=12, fontfamily='calibri', \n",
    "          fontweight='bold', position=(0.20, 1.0+0.02))\n",
    "cbar = plt.colorbar()\n",
    "cbar.ax.tick_params(labelsize=8) \n",
    "cbar.ax.minorticks_on()\n",
    "plt.show()"
   ]
  },
  {
   "cell_type": "markdown",
   "id": "7d8e1ca0-f741-4d93-ad69-dc6fd3007004",
   "metadata": {},
   "source": [
    "Análisis de Clasificaciones (Ratings)\n",
    "\n",
    "Descripción: Análisis de las clasificaciones más comunes en el contenido de Netflix."
   ]
  },
  {
   "cell_type": "code",
   "execution_count": 146,
   "id": "49a8fa4c-72e6-4d80-aaa4-8ebdc0589c06",
   "metadata": {},
   "outputs": [
    {
     "data": {
      "image/png": "[encoded data removed]",
      "text/plain": [
       "<Figure size 1200x1000 with 1 Axes>"
      ]
     },
     "metadata": {},
     "output_type": "display_data"
    }
   ],
   "source": [
    "# Análisis de la distribución de ratings en el contenido\n",
    "plt.figure(figsize=(12, 10))\n",
    "sns.set(style=\"darkgrid\")\n",
    "ax = sns.countplot(x=\"rating\", data=netflix_dataset, palette=\"Set1\", \n",
    "                   order=netflix_dataset['rating'].value_counts().index[0:15])\n",
    "plt.xticks(rotation=45)\n",
    "plt.title(\"Distribución de Ratings en Netflix\")\n",
    "plt.show()"
   ]
  },
  {
   "cell_type": "markdown",
   "id": "5d1bb10b-cc88-42be-b4db-0abf937b5251",
   "metadata": {},
   "source": [
    "#### ========================================================================="
   ]
  },
  {
   "cell_type": "markdown",
   "id": "ac22fc2b-9cda-4661-8212-682173d996a6",
   "metadata": {},
   "source": [
    "## Análisis con Datos de IMDB"
   ]
  },
  {
   "cell_type": "markdown",
   "id": "5e40c857-e3c9-477a-89b7-e913a643c49a",
   "metadata": {},
   "source": [
    "Integración de ratings de IMDB para identificar el contenido mejor valorado disponible en Netflix."
   ]
  },
  {
   "cell_type": "code",
   "execution_count": 148,
   "id": "de8891d6-fabe-442f-af67-54ac2d1eb312",
   "metadata": {},
   "outputs": [
    {
     "name": "stdout",
     "output_type": "stream",
     "text": [
      "Forma del dataset de ratings: (85852, 4)\n"
     ]
    },
    {
     "data": {
      "application/vnd.plotly.v1+json": {
       "config": {
        "plotlyServerURL": "https://plot.ly"
       },
       "data": [
        {
         "branchvalues": "total",
         "customdata": [
          [
           8.6
          ],
          [
           8.6
          ],
          [
           8.6
          ],
          [
           8.6
          ],
          [
           8.6
          ],
          [
           9
          ],
          [
           9
          ],
          [
           8.9
          ],
          [
           8.9
          ],
          [
           8.8
          ],
          [
           9
          ],
          [
           8.6
          ],
          [
           8.6
          ],
          [
           8.6
          ],
          [
           8.8
          ],
          [
           9
          ],
          [
           8.6
          ],
          [
           8.6
          ],
          [
           8.9
          ],
          [
           8.9
          ]
         ],
         "domain": {
          "x": [
           0,
           1
          ],
          "y": [
           0,
           1
          ]
         },
         "hovertemplate": "labels=%{label}<br>Rating_sum=%{value}<br>parent=%{parent}<br>id=%{id}<br>Rating=%{color}<extra></extra>",
         "ids": [
          "City of God/Brazil, France, Germany",
          "Much Ado About Nothing/Chile, United States, France",
          "Eh Janam Tumhare Lekhe/India",
          "Gol Maal/India",
          "Oththa Seruppu Size 7/India",
          "Breakout/Singapore",
          "Innocent/Turkey",
          "Pulp Fiction/United States",
          "Schindler's List/United States",
          "Inception/United States, United Kingdom",
          "Breakout",
          "City of God",
          "Eh Janam Tumhare Lekhe",
          "Gol Maal",
          "Inception",
          "Innocent",
          "Much Ado About Nothing",
          "Oththa Seruppu Size 7",
          "Pulp Fiction",
          "Schindler's List"
         ],
         "labels": [
          "Brazil, France, Germany",
          "Chile, United States, France",
          "India",
          "India",
          "India",
          "Singapore",
          "Turkey",
          "United States",
          "United States",
          "United States, United Kingdom",
          "Breakout",
          "City of God",
          "Eh Janam Tumhare Lekhe",
          "Gol Maal",
          "Inception",
          "Innocent",
          "Much Ado About Nothing",
          "Oththa Seruppu Size 7",
          "Pulp Fiction",
          "Schindler's List"
         ],
         "marker": {
          "coloraxis": "coloraxis",
          "colors": [
           8.6,
           8.6,
           8.6,
           8.6,
           8.6,
           9,
           9,
           8.9,
           8.9,
           8.8,
           9,
           8.6,
           8.6,
           8.6,
           8.8,
           9,
           8.6,
           8.6,
           8.9,
           8.9
          ]
         },
         "name": "",
         "parents": [
          "City of God",
          "Much Ado About Nothing",
          "Eh Janam Tumhare Lekhe",
          "Gol Maal",
          "Oththa Seruppu Size 7",
          "Breakout",
          "Innocent",
          "Pulp Fiction",
          "Schindler's List",
          "Inception",
          "",
          "",
          "",
          "",
          "",
          "",
          "",
          "",
          "",
          ""
         ],
         "type": "sunburst",
         "values": [
          8.6,
          8.6,
          8.6,
          8.6,
          8.6,
          9,
          9,
          8.9,
          8.9,
          8.8,
          9,
          8.6,
          8.6,
          8.6,
          8.8,
          9,
          8.6,
          8.6,
          8.9,
          8.9
         ]
        }
       ],
       "layout": {
        "autosize": true,
        "coloraxis": {
         "colorbar": {
          "title": {
           "text": "Rating"
          }
         },
         "colorscale": [
          [
           0,
           "#0d0887"
          ],
          [
           0.1111111111111111,
           "#46039f"
          ],
          [
           0.2222222222222222,
           "#7201a8"
          ],
          [
           0.3333333333333333,
           "#9c179e"
          ],
          [
           0.4444444444444444,
           "#bd3786"
          ],
          [
           0.5555555555555556,
           "#d8576b"
          ],
          [
           0.6666666666666666,
           "#ed7953"
          ],
          [
           0.7777777777777778,
           "#fb9f3a"
          ],
          [
           0.8888888888888888,
           "#fdca26"
          ],
          [
           1,
           "#f0f921"
          ]
         ]
        },
        "legend": {
         "tracegroupgap": 0
        },
        "margin": {
         "t": 60
        },
        "template": {
         "data": {
          "bar": [
           {
            "error_x": {
             "color": "#2a3f5f"
            },
            "error_y": {
             "color": "#2a3f5f"
            },
            "marker": {
             "line": {
              "color": "#E5ECF6",
              "width": 0.5
             },
             "pattern": {
              "fillmode": "overlay",
              "size": 10,
              "solidity": 0.2
             }
            },
            "type": "bar"
           }
          ],
          "barpolar": [
           {
            "marker": {
             "line": {
              "color": "#E5ECF6",
              "width": 0.5
             },
             "pattern": {
              "fillmode": "overlay",
              "size": 10,
              "solidity": 0.2
             }
            },
            "type": "barpolar"
           }
          ],
          "carpet": [
           {
            "aaxis": {
             "endlinecolor": "#2a3f5f",
             "gridcolor": "white",
             "linecolor": "white",
             "minorgridcolor": "white",
             "startlinecolor": "#2a3f5f"
            },
            "baxis": {
             "endlinecolor": "#2a3f5f",
             "gridcolor": "white",
             "linecolor": "white",
             "minorgridcolor": "white",
             "startlinecolor": "#2a3f5f"
            },
            "type": "carpet"
           }
          ],
          "choropleth": [
           {
            "colorbar": {
             "outlinewidth": 0,
             "ticks": ""
            },
            "type": "choropleth"
           }
          ],
          "contour": [
           {
            "colorbar": {
             "outlinewidth": 0,
             "ticks": ""
            },
            "colorscale": [
             [
              0,
              "#0d0887"
             ],
             [
              0.1111111111111111,
              "#46039f"
             ],
             [
              0.2222222222222222,
              "#7201a8"
             ],
             [
              0.3333333333333333,
              "#9c179e"
             ],
             [
              0.4444444444444444,
              "#bd3786"
             ],
             [
              0.5555555555555556,
              "#d8576b"
             ],
             [
              0.6666666666666666,
              "#ed7953"
             ],
             [
              0.7777777777777778,
              "#fb9f3a"
             ],
             [
              0.8888888888888888,
              "#fdca26"
             ],
             [
              1,
              "#f0f921"
             ]
            ],
            "type": "contour"
           }
          ],
          "contourcarpet": [
           {
            "colorbar": {
             "outlinewidth": 0,
             "ticks": ""
            },
            "type": "contourcarpet"
           }
          ],
          "heatmap": [
           {
            "colorbar": {
             "outlinewidth": 0,
             "ticks": ""
            },
            "colorscale": [
             [
              0,
              "#0d0887"
             ],
             [
              0.1111111111111111,
              "#46039f"
             ],
             [
              0.2222222222222222,
              "#7201a8"
             ],
             [
              0.3333333333333333,
              "#9c179e"
             ],
             [
              0.4444444444444444,
              "#bd3786"
             ],
             [
              0.5555555555555556,
              "#d8576b"
             ],
             [
              0.6666666666666666,
              "#ed7953"
             ],
             [
              0.7777777777777778,
              "#fb9f3a"
             ],
             [
              0.8888888888888888,
              "#fdca26"
             ],
             [
              1,
              "#f0f921"
             ]
            ],
            "type": "heatmap"
           }
          ],
          "heatmapgl": [
           {
            "colorbar": {
             "outlinewidth": 0,
             "ticks": ""
            },
            "colorscale": [
             [
              0,
              "#0d0887"
             ],
             [
              0.1111111111111111,
              "#46039f"
             ],
             [
              0.2222222222222222,
              "#7201a8"
             ],
             [
              0.3333333333333333,
              "#9c179e"
             ],
             [
              0.4444444444444444,
              "#bd3786"
             ],
             [
              0.5555555555555556,
              "#d8576b"
             ],
             [
              0.6666666666666666,
              "#ed7953"
             ],
             [
              0.7777777777777778,
              "#fb9f3a"
             ],
             [
              0.8888888888888888,
              "#fdca26"
             ],
             [
              1,
              "#f0f921"
             ]
            ],
            "type": "heatmapgl"
           }
          ],
          "histogram": [
           {
            "marker": {
             "pattern": {
              "fillmode": "overlay",
              "size": 10,
              "solidity": 0.2
             }
            },
            "type": "histogram"
           }
          ],
          "histogram2d": [
           {
            "colorbar": {
             "outlinewidth": 0,
             "ticks": ""
            },
            "colorscale": [
             [
              0,
              "#0d0887"
             ],
             [
              0.1111111111111111,
              "#46039f"
             ],
             [
              0.2222222222222222,
              "#7201a8"
             ],
             [
              0.3333333333333333,
              "#9c179e"
             ],
             [
              0.4444444444444444,
              "#bd3786"
             ],
             [
              0.5555555555555556,
              "#d8576b"
             ],
             [
              0.6666666666666666,
              "#ed7953"
             ],
             [
              0.7777777777777778,
              "#fb9f3a"
             ],
             [
              0.8888888888888888,
              "#fdca26"
             ],
             [
              1,
              "#f0f921"
             ]
            ],
            "type": "histogram2d"
           }
          ],
          "histogram2dcontour": [
           {
            "colorbar": {
             "outlinewidth": 0,
             "ticks": ""
            },
            "colorscale": [
             [
              0,
              "#0d0887"
             ],
             [
              0.1111111111111111,
              "#46039f"
             ],
             [
              0.2222222222222222,
              "#7201a8"
             ],
             [
              0.3333333333333333,
              "#9c179e"
             ],
             [
              0.4444444444444444,
              "#bd3786"
             ],
             [
              0.5555555555555556,
              "#d8576b"
             ],
             [
              0.6666666666666666,
              "#ed7953"
             ],
             [
              0.7777777777777778,
              "#fb9f3a"
             ],
             [
              0.8888888888888888,
              "#fdca26"
             ],
             [
              1,
              "#f0f921"
             ]
            ],
            "type": "histogram2dcontour"
           }
          ],
          "mesh3d": [
           {
            "colorbar": {
             "outlinewidth": 0,
             "ticks": ""
            },
            "type": "mesh3d"
           }
          ],
          "parcoords": [
           {
            "line": {
             "colorbar": {
              "outlinewidth": 0,
              "ticks": ""
             }
            },
            "type": "parcoords"
           }
          ],
          "pie": [
           {
            "automargin": true,
            "type": "pie"
           }
          ],
          "scatter": [
           {
            "fillpattern": {
             "fillmode": "overlay",
             "size": 10,
             "solidity": 0.2
            },
            "type": "scatter"
           }
          ],
          "scatter3d": [
           {
            "line": {
             "colorbar": {
              "outlinewidth": 0,
              "ticks": ""
             }
            },
            "marker": {
             "colorbar": {
              "outlinewidth": 0,
              "ticks": ""
             }
            },
            "type": "scatter3d"
           }
          ],
          "scattercarpet": [
           {
            "marker": {
             "colorbar": {
              "outlinewidth": 0,
              "ticks": ""
             }
            },
            "type": "scattercarpet"
           }
          ],
          "scattergeo": [
           {
            "marker": {
             "colorbar": {
              "outlinewidth": 0,
              "ticks": ""
             }
            },
            "type": "scattergeo"
           }
          ],
          "scattergl": [
           {
            "marker": {
             "colorbar": {
              "outlinewidth": 0,
              "ticks": ""
             }
            },
            "type": "scattergl"
           }
          ],
          "scattermapbox": [
           {
            "marker": {
             "colorbar": {
              "outlinewidth": 0,
              "ticks": ""
             }
            },
            "type": "scattermapbox"
           }
          ],
          "scatterpolar": [
           {
            "marker": {
             "colorbar": {
              "outlinewidth": 0,
              "ticks": ""
             }
            },
            "type": "scatterpolar"
           }
          ],
          "scatterpolargl": [
           {
            "marker": {
             "colorbar": {
              "outlinewidth": 0,
              "ticks": ""
             }
            },
            "type": "scatterpolargl"
           }
          ],
          "scatterternary": [
           {
            "marker": {
             "colorbar": {
              "outlinewidth": 0,
              "ticks": ""
             }
            },
            "type": "scatterternary"
           }
          ],
          "surface": [
           {
            "colorbar": {
             "outlinewidth": 0,
             "ticks": ""
            },
            "colorscale": [
             [
              0,
              "#0d0887"
             ],
             [
              0.1111111111111111,
              "#46039f"
             ],
             [
              0.2222222222222222,
              "#7201a8"
             ],
             [
              0.3333333333333333,
              "#9c179e"
             ],
             [
              0.4444444444444444,
              "#bd3786"
             ],
             [
              0.5555555555555556,
              "#d8576b"
             ],
             [
              0.6666666666666666,
              "#ed7953"
             ],
             [
              0.7777777777777778,
              "#fb9f3a"
             ],
             [
              0.8888888888888888,
              "#fdca26"
             ],
             [
              1,
              "#f0f921"
             ]
            ],
            "type": "surface"
           }
          ],
          "table": [
           {
            "cells": {
             "fill": {
              "color": "#EBF0F8"
             },
             "line": {
              "color": "white"
             }
            },
            "header": {
             "fill": {
              "color": "#C8D4E3"
             },
             "line": {
              "color": "white"
             }
            },
            "type": "table"
           }
          ]
         },
         "layout": {
          "annotationdefaults": {
           "arrowcolor": "#2a3f5f",
           "arrowhead": 0,
           "arrowwidth": 1
          },
          "autotypenumbers": "strict",
          "coloraxis": {
           "colorbar": {
            "outlinewidth": 0,
            "ticks": ""
           }
          },
          "colorscale": {
           "diverging": [
            [
             0,
             "#8e0152"
            ],
            [
             0.1,
             "#c51b7d"
            ],
            [
             0.2,
             "#de77ae"
            ],
            [
             0.3,
             "#f1b6da"
            ],
            [
             0.4,
             "#fde0ef"
            ],
            [
             0.5,
             "#f7f7f7"
            ],
            [
             0.6,
             "#e6f5d0"
            ],
            [
             0.7,
             "#b8e186"
            ],
            [
             0.8,
             "#7fbc41"
            ],
            [
             0.9,
             "#4d9221"
            ],
            [
             1,
             "#276419"
            ]
           ],
           "sequential": [
            [
             0,
             "#0d0887"
            ],
            [
             0.1111111111111111,
             "#46039f"
            ],
            [
             0.2222222222222222,
             "#7201a8"
            ],
            [
             0.3333333333333333,
             "#9c179e"
            ],
            [
             0.4444444444444444,
             "#bd3786"
            ],
            [
             0.5555555555555556,
             "#d8576b"
            ],
            [
             0.6666666666666666,
             "#ed7953"
            ],
            [
             0.7777777777777778,
             "#fb9f3a"
            ],
            [
             0.8888888888888888,
             "#fdca26"
            ],
            [
             1,
             "#f0f921"
            ]
           ],
           "sequentialminus": [
            [
             0,
             "#0d0887"
            ],
            [
             0.1111111111111111,
             "#46039f"
            ],
            [
             0.2222222222222222,
             "#7201a8"
            ],
            [
             0.3333333333333333,
             "#9c179e"
            ],
            [
             0.4444444444444444,
             "#bd3786"
            ],
            [
             0.5555555555555556,
             "#d8576b"
            ],
            [
             0.6666666666666666,
             "#ed7953"
            ],
            [
             0.7777777777777778,
             "#fb9f3a"
            ],
            [
             0.8888888888888888,
             "#fdca26"
            ],
            [
             1,
             "#f0f921"
            ]
           ]
          },
          "colorway": [
           "#636efa",
           "#EF553B",
           "#00cc96",
           "#ab63fa",
           "#FFA15A",
           "#19d3f3",
           "#FF6692",
           "#B6E880",
           "#FF97FF",
           "#FECB52"
          ],
          "font": {
           "color": "#2a3f5f"
          },
          "geo": {
           "bgcolor": "white",
           "lakecolor": "white",
           "landcolor": "#E5ECF6",
           "showlakes": true,
           "showland": true,
           "subunitcolor": "white"
          },
          "hoverlabel": {
           "align": "left"
          },
          "hovermode": "closest",
          "mapbox": {
           "style": "light"
          },
          "paper_bgcolor": "white",
          "plot_bgcolor": "#E5ECF6",
          "polar": {
           "angularaxis": {
            "gridcolor": "white",
            "linecolor": "white",
            "ticks": ""
           },
           "bgcolor": "#E5ECF6",
           "radialaxis": {
            "gridcolor": "white",
            "linecolor": "white",
            "ticks": ""
           }
          },
          "scene": {
           "xaxis": {
            "backgroundcolor": "#E5ECF6",
            "gridcolor": "white",
            "gridwidth": 2,
            "linecolor": "white",
            "showbackground": true,
            "ticks": "",
            "zerolinecolor": "white"
           },
           "yaxis": {
            "backgroundcolor": "#E5ECF6",
            "gridcolor": "white",
            "gridwidth": 2,
            "linecolor": "white",
            "showbackground": true,
            "ticks": "",
            "zerolinecolor": "white"
           },
           "zaxis": {
            "backgroundcolor": "#E5ECF6",
            "gridcolor": "white",
            "gridwidth": 2,
            "linecolor": "white",
            "showbackground": true,
            "ticks": "",
            "zerolinecolor": "white"
           }
          },
          "shapedefaults": {
           "line": {
            "color": "#2a3f5f"
           }
          },
          "ternary": {
           "aaxis": {
            "gridcolor": "white",
            "linecolor": "white",
            "ticks": ""
           },
           "baxis": {
            "gridcolor": "white",
            "linecolor": "white",
            "ticks": ""
           },
           "bgcolor": "#E5ECF6",
           "caxis": {
            "gridcolor": "white",
            "linecolor": "white",
            "ticks": ""
           }
          },
          "title": {
           "x": 0.05
          },
          "xaxis": {
           "automargin": true,
           "gridcolor": "white",
           "linecolor": "white",
           "ticks": "",
           "title": {
            "standoff": 15
           },
           "zerolinecolor": "white",
           "zerolinewidth": 2
          },
          "yaxis": {
           "automargin": true,
           "gridcolor": "white",
           "linecolor": "white",
           "ticks": "",
           "title": {
            "standoff": 15
           },
           "zerolinecolor": "white",
           "zerolinewidth": 2
          }
         }
        }
       }
      },
      "image/png": "[encoded data removed]",
      "text/html": [
       "<div>                            <div id=\"bfb8ee80-eb86-490a-b7a0-6b78a7715b67\" class=\"plotly-graph-div\" style=\"height:525px; width:100%;\"></div>            <script type=\"text/javascript\">                require([\"plotly\"], function(Plotly) {                    window.PLOTLYENV=window.PLOTLYENV || {};                                    if (document.getElementById(\"bfb8ee80-eb86-490a-b7a0-6b78a7715b67\")) {                    Plotly.newPlot(                        \"bfb8ee80-eb86-490a-b7a0-6b78a7715b67\",                        [{\"branchvalues\":\"total\",\"customdata\":[[8.6],[8.6],[8.6],[8.6],[8.6],[9.0],[9.0],[8.9],[8.9],[8.8],[9.0],[8.6],[8.6],[8.6],[8.8],[9.0],[8.6],[8.6],[8.9],[8.9]],\"domain\":{\"x\":[0.0,1.0],\"y\":[0.0,1.0]},\"hovertemplate\":\"labels=%{label}\\u003cbr\\u003eRating_sum=%{value}\\u003cbr\\u003eparent=%{parent}\\u003cbr\\u003eid=%{id}\\u003cbr\\u003eRating=%{color}\\u003cextra\\u003e\\u003c\\u002fextra\\u003e\",\"ids\":[\"City of God\\u002fBrazil, France, Germany\",\"Much Ado About Nothing\\u002fChile, United States, France\",\"Eh Janam Tumhare Lekhe\\u002fIndia\",\"Gol Maal\\u002fIndia\",\"Oththa Seruppu Size 7\\u002fIndia\",\"Breakout\\u002fSingapore\",\"Innocent\\u002fTurkey\",\"Pulp Fiction\\u002fUnited States\",\"Schindler's List\\u002fUnited States\",\"Inception\\u002fUnited States, United Kingdom\",\"Breakout\",\"City of God\",\"Eh Janam Tumhare Lekhe\",\"Gol Maal\",\"Inception\",\"Innocent\",\"Much Ado About Nothing\",\"Oththa Seruppu Size 7\",\"Pulp Fiction\",\"Schindler's List\"],\"labels\":[\"Brazil, France, Germany\",\"Chile, United States, France\",\"India\",\"India\",\"India\",\"Singapore\",\"Turkey\",\"United States\",\"United States\",\"United States, United Kingdom\",\"Breakout\",\"City of God\",\"Eh Janam Tumhare Lekhe\",\"Gol Maal\",\"Inception\",\"Innocent\",\"Much Ado About Nothing\",\"Oththa Seruppu Size 7\",\"Pulp Fiction\",\"Schindler's List\"],\"marker\":{\"coloraxis\":\"coloraxis\",\"colors\":[8.6,8.6,8.6,8.6,8.6,9.0,9.0,8.9,8.9,8.8,9.0,8.6,8.6,8.6,8.8,9.0,8.6,8.6,8.9,8.9]},\"name\":\"\",\"parents\":[\"City of God\",\"Much Ado About Nothing\",\"Eh Janam Tumhare Lekhe\",\"Gol Maal\",\"Oththa Seruppu Size 7\",\"Breakout\",\"Innocent\",\"Pulp Fiction\",\"Schindler's List\",\"Inception\",\"\",\"\",\"\",\"\",\"\",\"\",\"\",\"\",\"\",\"\"],\"values\":[8.6,8.6,8.6,8.6,8.6,9.0,9.0,8.9,8.9,8.8,9.0,8.6,8.6,8.6,8.8,9.0,8.6,8.6,8.9,8.9],\"type\":\"sunburst\"}],                        {\"template\":{\"data\":{\"histogram2dcontour\":[{\"type\":\"histogram2dcontour\",\"colorbar\":{\"outlinewidth\":0,\"ticks\":\"\"},\"colorscale\":[[0.0,\"#0d0887\"],[0.1111111111111111,\"#46039f\"],[0.2222222222222222,\"#7201a8\"],[0.3333333333333333,\"#9c179e\"],[0.4444444444444444,\"#bd3786\"],[0.5555555555555556,\"#d8576b\"],[0.6666666666666666,\"#ed7953\"],[0.7777777777777778,\"#fb9f3a\"],[0.8888888888888888,\"#fdca26\"],[1.0,\"#f0f921\"]]}],\"choropleth\":[{\"type\":\"choropleth\",\"colorbar\":{\"outlinewidth\":0,\"ticks\":\"\"}}],\"histogram2d\":[{\"type\":\"histogram2d\",\"colorbar\":{\"outlinewidth\":0,\"ticks\":\"\"},\"colorscale\":[[0.0,\"#0d0887\"],[0.1111111111111111,\"#46039f\"],[0.2222222222222222,\"#7201a8\"],[0.3333333333333333,\"#9c179e\"],[0.4444444444444444,\"#bd3786\"],[0.5555555555555556,\"#d8576b\"],[0.6666666666666666,\"#ed7953\"],[0.7777777777777778,\"#fb9f3a\"],[0.8888888888888888,\"#fdca26\"],[1.0,\"#f0f921\"]]}],\"heatmap\":[{\"type\":\"heatmap\",\"colorbar\":{\"outlinewidth\":0,\"ticks\":\"\"},\"colorscale\":[[0.0,\"#0d0887\"],[0.1111111111111111,\"#46039f\"],[0.2222222222222222,\"#7201a8\"],[0.3333333333333333,\"#9c179e\"],[0.4444444444444444,\"#bd3786\"],[0.5555555555555556,\"#d8576b\"],[0.6666666666666666,\"#ed7953\"],[0.7777777777777778,\"#fb9f3a\"],[0.8888888888888888,\"#fdca26\"],[1.0,\"#f0f921\"]]}],\"heatmapgl\":[{\"type\":\"heatmapgl\",\"colorbar\":{\"outlinewidth\":0,\"ticks\":\"\"},\"colorscale\":[[0.0,\"#0d0887\"],[0.1111111111111111,\"#46039f\"],[0.2222222222222222,\"#7201a8\"],[0.3333333333333333,\"#9c179e\"],[0.4444444444444444,\"#bd3786\"],[0.5555555555555556,\"#d8576b\"],[0.6666666666666666,\"#ed7953\"],[0.7777777777777778,\"#fb9f3a\"],[0.8888888888888888,\"#fdca26\"],[1.0,\"#f0f921\"]]}],\"contourcarpet\":[{\"type\":\"contourcarpet\",\"colorbar\":{\"outlinewidth\":0,\"ticks\":\"\"}}],\"contour\":[{\"type\":\"contour\",\"colorbar\":{\"outlinewidth\":0,\"ticks\":\"\"},\"colorscale\":[[0.0,\"#0d0887\"],[0.1111111111111111,\"#46039f\"],[0.2222222222222222,\"#7201a8\"],[0.3333333333333333,\"#9c179e\"],[0.4444444444444444,\"#bd3786\"],[0.5555555555555556,\"#d8576b\"],[0.6666666666666666,\"#ed7953\"],[0.7777777777777778,\"#fb9f3a\"],[0.8888888888888888,\"#fdca26\"],[1.0,\"#f0f921\"]]}],\"surface\":[{\"type\":\"surface\",\"colorbar\":{\"outlinewidth\":0,\"ticks\":\"\"},\"colorscale\":[[0.0,\"#0d0887\"],[0.1111111111111111,\"#46039f\"],[0.2222222222222222,\"#7201a8\"],[0.3333333333333333,\"#9c179e\"],[0.4444444444444444,\"#bd3786\"],[0.5555555555555556,\"#d8576b\"],[0.6666666666666666,\"#ed7953\"],[0.7777777777777778,\"#fb9f3a\"],[0.8888888888888888,\"#fdca26\"],[1.0,\"#f0f921\"]]}],\"mesh3d\":[{\"type\":\"mesh3d\",\"colorbar\":{\"outlinewidth\":0,\"ticks\":\"\"}}],\"scatter\":[{\"fillpattern\":{\"fillmode\":\"overlay\",\"size\":10,\"solidity\":0.2},\"type\":\"scatter\"}],\"parcoords\":[{\"type\":\"parcoords\",\"line\":{\"colorbar\":{\"outlinewidth\":0,\"ticks\":\"\"}}}],\"scatterpolargl\":[{\"type\":\"scatterpolargl\",\"marker\":{\"colorbar\":{\"outlinewidth\":0,\"ticks\":\"\"}}}],\"bar\":[{\"error_x\":{\"color\":\"#2a3f5f\"},\"error_y\":{\"color\":\"#2a3f5f\"},\"marker\":{\"line\":{\"color\":\"#E5ECF6\",\"width\":0.5},\"pattern\":{\"fillmode\":\"overlay\",\"size\":10,\"solidity\":0.2}},\"type\":\"bar\"}],\"scattergeo\":[{\"type\":\"scattergeo\",\"marker\":{\"colorbar\":{\"outlinewidth\":0,\"ticks\":\"\"}}}],\"scatterpolar\":[{\"type\":\"scatterpolar\",\"marker\":{\"colorbar\":{\"outlinewidth\":0,\"ticks\":\"\"}}}],\"histogram\":[{\"marker\":{\"pattern\":{\"fillmode\":\"overlay\",\"size\":10,\"solidity\":0.2}},\"type\":\"histogram\"}],\"scattergl\":[{\"type\":\"scattergl\",\"marker\":{\"colorbar\":{\"outlinewidth\":0,\"ticks\":\"\"}}}],\"scatter3d\":[{\"type\":\"scatter3d\",\"line\":{\"colorbar\":{\"outlinewidth\":0,\"ticks\":\"\"}},\"marker\":{\"colorbar\":{\"outlinewidth\":0,\"ticks\":\"\"}}}],\"scattermapbox\":[{\"type\":\"scattermapbox\",\"marker\":{\"colorbar\":{\"outlinewidth\":0,\"ticks\":\"\"}}}],\"scatterternary\":[{\"type\":\"scatterternary\",\"marker\":{\"colorbar\":{\"outlinewidth\":0,\"ticks\":\"\"}}}],\"scattercarpet\":[{\"type\":\"scattercarpet\",\"marker\":{\"colorbar\":{\"outlinewidth\":0,\"ticks\":\"\"}}}],\"carpet\":[{\"aaxis\":{\"endlinecolor\":\"#2a3f5f\",\"gridcolor\":\"white\",\"linecolor\":\"white\",\"minorgridcolor\":\"white\",\"startlinecolor\":\"#2a3f5f\"},\"baxis\":{\"endlinecolor\":\"#2a3f5f\",\"gridcolor\":\"white\",\"linecolor\":\"white\",\"minorgridcolor\":\"white\",\"startlinecolor\":\"#2a3f5f\"},\"type\":\"carpet\"}],\"table\":[{\"cells\":{\"fill\":{\"color\":\"#EBF0F8\"},\"line\":{\"color\":\"white\"}},\"header\":{\"fill\":{\"color\":\"#C8D4E3\"},\"line\":{\"color\":\"white\"}},\"type\":\"table\"}],\"barpolar\":[{\"marker\":{\"line\":{\"color\":\"#E5ECF6\",\"width\":0.5},\"pattern\":{\"fillmode\":\"overlay\",\"size\":10,\"solidity\":0.2}},\"type\":\"barpolar\"}],\"pie\":[{\"automargin\":true,\"type\":\"pie\"}]},\"layout\":{\"autotypenumbers\":\"strict\",\"colorway\":[\"#636efa\",\"#EF553B\",\"#00cc96\",\"#ab63fa\",\"#FFA15A\",\"#19d3f3\",\"#FF6692\",\"#B6E880\",\"#FF97FF\",\"#FECB52\"],\"font\":{\"color\":\"#2a3f5f\"},\"hovermode\":\"closest\",\"hoverlabel\":{\"align\":\"left\"},\"paper_bgcolor\":\"white\",\"plot_bgcolor\":\"#E5ECF6\",\"polar\":{\"bgcolor\":\"#E5ECF6\",\"angularaxis\":{\"gridcolor\":\"white\",\"linecolor\":\"white\",\"ticks\":\"\"},\"radialaxis\":{\"gridcolor\":\"white\",\"linecolor\":\"white\",\"ticks\":\"\"}},\"ternary\":{\"bgcolor\":\"#E5ECF6\",\"aaxis\":{\"gridcolor\":\"white\",\"linecolor\":\"white\",\"ticks\":\"\"},\"baxis\":{\"gridcolor\":\"white\",\"linecolor\":\"white\",\"ticks\":\"\"},\"caxis\":{\"gridcolor\":\"white\",\"linecolor\":\"white\",\"ticks\":\"\"}},\"coloraxis\":{\"colorbar\":{\"outlinewidth\":0,\"ticks\":\"\"}},\"colorscale\":{\"sequential\":[[0.0,\"#0d0887\"],[0.1111111111111111,\"#46039f\"],[0.2222222222222222,\"#7201a8\"],[0.3333333333333333,\"#9c179e\"],[0.4444444444444444,\"#bd3786\"],[0.5555555555555556,\"#d8576b\"],[0.6666666666666666,\"#ed7953\"],[0.7777777777777778,\"#fb9f3a\"],[0.8888888888888888,\"#fdca26\"],[1.0,\"#f0f921\"]],\"sequentialminus\":[[0.0,\"#0d0887\"],[0.1111111111111111,\"#46039f\"],[0.2222222222222222,\"#7201a8\"],[0.3333333333333333,\"#9c179e\"],[0.4444444444444444,\"#bd3786\"],[0.5555555555555556,\"#d8576b\"],[0.6666666666666666,\"#ed7953\"],[0.7777777777777778,\"#fb9f3a\"],[0.8888888888888888,\"#fdca26\"],[1.0,\"#f0f921\"]],\"diverging\":[[0,\"#8e0152\"],[0.1,\"#c51b7d\"],[0.2,\"#de77ae\"],[0.3,\"#f1b6da\"],[0.4,\"#fde0ef\"],[0.5,\"#f7f7f7\"],[0.6,\"#e6f5d0\"],[0.7,\"#b8e186\"],[0.8,\"#7fbc41\"],[0.9,\"#4d9221\"],[1,\"#276419\"]]},\"xaxis\":{\"gridcolor\":\"white\",\"linecolor\":\"white\",\"ticks\":\"\",\"title\":{\"standoff\":15},\"zerolinecolor\":\"white\",\"automargin\":true,\"zerolinewidth\":2},\"yaxis\":{\"gridcolor\":\"white\",\"linecolor\":\"white\",\"ticks\":\"\",\"title\":{\"standoff\":15},\"zerolinecolor\":\"white\",\"automargin\":true,\"zerolinewidth\":2},\"scene\":{\"xaxis\":{\"backgroundcolor\":\"#E5ECF6\",\"gridcolor\":\"white\",\"linecolor\":\"white\",\"showbackground\":true,\"ticks\":\"\",\"zerolinecolor\":\"white\",\"gridwidth\":2},\"yaxis\":{\"backgroundcolor\":\"#E5ECF6\",\"gridcolor\":\"white\",\"linecolor\":\"white\",\"showbackground\":true,\"ticks\":\"\",\"zerolinecolor\":\"white\",\"gridwidth\":2},\"zaxis\":{\"backgroundcolor\":\"#E5ECF6\",\"gridcolor\":\"white\",\"linecolor\":\"white\",\"showbackground\":true,\"ticks\":\"\",\"zerolinecolor\":\"white\",\"gridwidth\":2}},\"shapedefaults\":{\"line\":{\"color\":\"#2a3f5f\"}},\"annotationdefaults\":{\"arrowcolor\":\"#2a3f5f\",\"arrowhead\":0,\"arrowwidth\":1},\"geo\":{\"bgcolor\":\"white\",\"landcolor\":\"#E5ECF6\",\"subunitcolor\":\"white\",\"showland\":true,\"showlakes\":true,\"lakecolor\":\"white\"},\"title\":{\"x\":0.05},\"mapbox\":{\"style\":\"light\"}}},\"coloraxis\":{\"colorbar\":{\"title\":{\"text\":\"Rating\"}},\"colorscale\":[[0.0,\"#0d0887\"],[0.1111111111111111,\"#46039f\"],[0.2222222222222222,\"#7201a8\"],[0.3333333333333333,\"#9c179e\"],[0.4444444444444444,\"#bd3786\"],[0.5555555555555556,\"#d8576b\"],[0.6666666666666666,\"#ed7953\"],[0.7777777777777778,\"#fb9f3a\"],[0.8888888888888888,\"#fdca26\"],[1.0,\"#f0f921\"]]},\"legend\":{\"tracegroupgap\":0},\"margin\":{\"t\":60}},                        {\"responsive\": true}                    ).then(function(){\n",
       "                            \n",
       "var gd = document.getElementById('bfb8ee80-eb86-490a-b7a0-6b78a7715b67');\n",
       "var x = new MutationObserver(function (mutations, observer) {{\n",
       "        var display = window.getComputedStyle(gd).display;\n",
       "        if (!display || display === 'none') {{\n",
       "            console.log([gd, 'removed!']);\n",
       "            Plotly.purge(gd);\n",
       "            observer.disconnect();\n",
       "        }}\n",
       "}});\n",
       "\n",
       "// Listen for the removal of the full notebook cells\n",
       "var notebookContainer = gd.closest('#notebook-container');\n",
       "if (notebookContainer) {{\n",
       "    x.observe(notebookContainer, {childList: true});\n",
       "}}\n",
       "\n",
       "// Listen for the clearing of the current output cell\n",
       "var outputEl = gd.closest('.output');\n",
       "if (outputEl) {{\n",
       "    x.observe(outputEl, {childList: true});\n",
       "}}\n",
       "\n",
       "                        })                };                });            </script>        </div>"
      ]
     },
     "metadata": {},
     "output_type": "display_data"
    },
    {
     "name": "stdout",
     "output_type": "stream",
     "text": [
      "Top países creadores de contenido:\n",
      "                               count\n",
      "country                             \n",
      "United States                    799\n",
      "India                            702\n",
      "United Kingdom                   107\n",
      "Canada                            56\n",
      "Philippines                       50\n",
      "Spain                             40\n",
      "South Korea                       36\n",
      "Indonesia                         35\n",
      "France                            33\n",
      "United Kingdom, United States     31\n",
      "Australia                         30\n"
     ]
    }
   ],
   "source": [
    "# Cargar datos de ratings y títulos de IMDB\n",
    "imdb_ratings = pd.read_csv('IMDb ratings.csv', \n",
    "                          usecols=['weighted_average_vote'])\n",
    "imdb_titles = pd.read_csv('IMDb movies.csv', \n",
    "                         usecols=['title', 'year', 'genre'])\n",
    "\n",
    "# Crear DataFrame combinado con información de IMDB\n",
    "ratings = pd.DataFrame({\n",
    "    'Title': imdb_titles.title,\n",
    "    'Release Year': imdb_titles.year,\n",
    "    'Rating': imdb_ratings.weighted_average_vote,\n",
    "    'Genre': imdb_titles.genre\n",
    "})\n",
    "\n",
    "# Eliminar duplicados\n",
    "ratings.drop_duplicates(subset=['Title', 'Release Year', 'Rating'], inplace=True)\n",
    "print(f\"Forma del dataset de ratings: {ratings.shape}\")\n",
    "\n",
    "# Limpiar valores nulos\n",
    "ratings.dropna()\n",
    "\n",
    "# Hacer join entre datos de IMDB y Netflix para obtener contenido común\n",
    "joint_data = ratings.merge(netflix_dataset, left_on='Title', right_on='title', how='inner')\n",
    "joint_data = joint_data.sort_values(by='Rating', ascending=False)\n",
    "\n",
    "# Visualizar top 10 películas mejor valoradas en Netflix\n",
    "import plotly.express as px\n",
    "top_rated = joint_data[0:10]\n",
    "fig = px.sunburst(\n",
    "    top_rated,\n",
    "    path=['title', 'country'],\n",
    "    values='Rating',\n",
    "    color='Rating'\n",
    ")\n",
    "fig.show()\n",
    "\n",
    "# Análisis de países que más contenido crean\n",
    "country_count = joint_data['country'].value_counts().sort_values(ascending=False)\n",
    "country_count = pd.DataFrame(country_count)\n",
    "topcountries = country_count[0:11]\n",
    "print(\"Top países creadores de contenido:\")\n",
    "print(topcountries)"
   ]
  },
  {
   "cell_type": "markdown",
   "id": "a706d150-0f1c-421b-a2d8-301b4fe4ccbe",
   "metadata": {},
   "source": [
    "#### Análisis Temporal por Años\n",
    "Descripción: Análisis de la evolución del contenido de Netflix en los últimos 15 años.\n"
   ]
  },
  {
   "cell_type": "code",
   "execution_count": 150,
   "id": "5513ba40-c711-4978-b299-9be367d7ba81",
   "metadata": {},
   "outputs": [
    {
     "name": "stdout",
     "output_type": "stream",
     "text": [
      "Contenido de los últimos 15 años: (7042, 12)\n"
     ]
    },
    {
     "data": {
      "image/png": "[encoded data removed]",
      "text/plain": [
       "<Figure size 1200x1000 with 1 Axes>"
      ]
     },
     "metadata": {},
     "output_type": "display_data"
    }
   ],
   "source": [
    "# Filtrar contenido de los últimos 15 años\n",
    "Last_fifteen_years = netflix_dataset[netflix_dataset['release_year'] > 2005]\n",
    "print(f\"Contenido de los últimos 15 años: {Last_fifteen_years.shape}\")\n",
    "\n",
    "# Visualizar distribución por año de lanzamiento\n",
    "plt.figure(figsize=(12, 10))\n",
    "sns.set(style=\"darkgrid\")\n",
    "ax = sns.countplot(y=\"release_year\", data=Last_fifteen_years, palette=\"Set1\", \n",
    "                   order=netflix_dataset['release_year'].value_counts().index[0:15])\n",
    "plt.title(\"Distribución de Contenido por Año de Lanzamiento\")\n",
    "plt.show()"
   ]
  },
  {
   "cell_type": "markdown",
   "id": "276176de-b1fd-436e-b9ad-bff4d06105d4",
   "metadata": {},
   "source": [
    "#### Análisis Específico de TV Shows\n",
    "Descripción: Análisis detallado de las series de TV, incluyendo países de origen y duración."
   ]
  },
  {
   "cell_type": "code",
   "execution_count": 152,
   "id": "fdedc2d5-4051-456a-b045-a0389ecb1184",
   "metadata": {},
   "outputs": [
    {
     "data": {
      "image/png": "[encoded data removed]",
      "text/plain": [
       "<Figure size 800x800 with 1 Axes>"
      ]
     },
     "metadata": {},
     "output_type": "display_data"
    }
   ],
   "source": [
    "# Análisis de países que producen TV Shows\n",
    "countries = {}\n",
    "netflix_shows['country'] = netflix_shows['country'].fillna('Unknown')\n",
    "cou = list(netflix_shows['country'])\n",
    "\n",
    "# Procesar países (algunos títulos tienen múltiples países)\n",
    "for i in cou:\n",
    "    i = list(i.split(','))\n",
    "    if len(i) == 1:\n",
    "        if i in list(countries.keys()):\n",
    "            countries[i] += 1\n",
    "        else:\n",
    "            countries[i[0]] = 1\n",
    "    else:\n",
    "        for j in i:\n",
    "            if j in list(countries.keys()):\n",
    "                countries[j] += 1\n",
    "            else:\n",
    "                countries[j] = 1\n",
    "\n",
    "# Limpiar datos de países\n",
    "countries_fin = {}\n",
    "for country, no in countries.items():\n",
    "    country = country.replace(' ', '')\n",
    "    if country in list(countries_fin.keys()):\n",
    "        countries_fin[country] += no\n",
    "    else:\n",
    "        countries_fin[country] = no\n",
    "\n",
    "# Ordenar países por cantidad de contenido\n",
    "countries_fin = {k: v for k, v in sorted(countries_fin.items(), key=lambda item: item[1], reverse=True)}\n",
    "\n",
    "# Visualizar top 10 países productores de TV Shows\n",
    "plt.figure(figsize=(8, 8))\n",
    "ax = sns.barplot(x=list(countries_fin.keys())[0:10], y=list(countries_fin.values())[0:10])\n",
    "ax.set_xticklabels(list(countries_fin.keys())[0:10], rotation=90)\n",
    "plt.title(\"Top 10 Países Productores de TV Shows\")\n",
    "plt.show()"
   ]
  },
  {
   "cell_type": "markdown",
   "id": "8ddf242c-da31-428e-bfa9-8e495325e770",
   "metadata": {},
   "source": [
    "#### Análisis de Duración de Películas\n",
    "Descripción: Análisis de la distribución de duración de las películas en Netflix."
   ]
  },
  {
   "cell_type": "code",
   "execution_count": 154,
   "id": "cb9eadf4-c83d-44a2-aa69-dcf380645e0d",
   "metadata": {},
   "outputs": [
    {
     "data": {
      "image/png": "[encoded data removed]",
      "text/plain": [
       "<Figure size 640x480 with 1 Axes>"
      ]
     },
     "metadata": {},
     "output_type": "display_data"
    }
   ],
   "source": [
    "# Procesar duración de películas (remover texto y convertir a números)\n",
    "netflix_movies['duration'] = netflix_movies['duration'].str.replace(' min', '')\n",
    "netflix_movies['duration'] = netflix_movies['duration'].astype(str).astype(int)\n",
    "\n",
    "# Crear gráfico de densidad para visualizar distribución de duraciones\n",
    "sns.set(style=\"darkgrid\")\n",
    "ax = sns.kdeplot(data=netflix_movies['duration'], shade=True)\n",
    "plt.title(\"Distribución de Duración de Películas\")\n",
    "plt.xlabel(\"Duración (minutos)\")\n",
    "plt.show()"
   ]
  },
  {
   "cell_type": "markdown",
   "id": "eea96118-f961-4a8f-b6b3-60c0c4d0bf55",
   "metadata": {},
   "source": [
    "#### Análisis de Duración de TV Shows\n",
    "Descripción: Análisis del número de temporadas de las series de TV."
   ]
  },
  {
   "cell_type": "code",
   "execution_count": 156,
   "id": "8f7142fa-50c2-476e-8990-c1d4fc1aeaed",
   "metadata": {},
   "outputs": [
    {
     "data": {
      "image/png": "[encoded data removed]",
      "text/plain": [
       "<Figure size 1500x800 with 1 Axes>"
      ]
     },
     "metadata": {},
     "output_type": "display_data"
    }
   ],
   "source": [
    "# Análisis de duración de TV Shows (número de temporadas)\n",
    "features = ['title', 'duration']\n",
    "durations = netflix_shows[features]\n",
    "\n",
    "# Procesar número de temporadas\n",
    "durations['no_of_seasons'] = durations['duration'].str.replace(' Season', '')\n",
    "durations['no_of_seasons'] = durations['no_of_seasons'].str.replace('s', '')\n",
    "durations['no_of_seasons'] = durations['no_of_seasons'].astype(str).astype(int)\n",
    "\n",
    "# Identificar TV Shows con más temporadas\n",
    "t = ['title', 'no_of_seasons']\n",
    "top = durations[t]\n",
    "top = top.sort_values(by='no_of_seasons', ascending=False)\n",
    "\n",
    "# Visualizar top 20 series con más temporadas\n",
    "top20 = top[0:20]\n",
    "top20.plot(kind='bar', x='title', y='no_of_seasons', color='blue', figsize=(15, 8))\n",
    "plt.title(\"Top 20 Series con Más Temporadas\")\n",
    "plt.xticks(rotation=45)\n",
    "plt.show()"
   ]
  },
  {
   "cell_type": "markdown",
   "id": "9f75a276-38f2-4ae9-b6cd-b2ac44f5fab6",
   "metadata": {},
   "source": [
    "#### Sistema de Recomendaciones Basado en Contenido - Versión Simple\n",
    "Descripción: Implementación básica del sistema de recomendaciones usando solo las descripciones."
   ]
  },
  {
   "cell_type": "code",
   "execution_count": 158,
   "id": "3a200ef0-d4f8-4b16-8a32-c326889d9f26",
   "metadata": {},
   "outputs": [
    {
     "name": "stdout",
     "output_type": "stream",
     "text": [
      "Ejemplos de descripciones:\n",
      "0    In a future where the elite inhabit an island ...\n",
      "1    After a devastating earthquake hits Mexico Cit...\n",
      "2    When an army recruit is found dead, his fellow...\n",
      "3    In a postapocalyptic world, rag-doll robots hi...\n",
      "4    A brilliant group of students become card-coun...\n",
      "Name: description, dtype: object\n",
      "Forma de la matriz TF-IDF: (7787, 17905)\n"
     ]
    }
   ],
   "source": [
    "# Mostrar ejemplos de descripciones\n",
    "print(\"Ejemplos de descripciones:\")\n",
    "print(netflix_dataset['description'].head())\n",
    "\n",
    "# Importar TfIdfVectorizer para crear matriz de características\n",
    "from sklearn.feature_extraction.text import TfidfVectorizer\n",
    "\n",
    "# Definir vectorizador TF-IDF (remueve stopwords en inglés)\n",
    "tfidf = TfidfVectorizer(stop_words='english')\n",
    "\n",
    "# Reemplazar valores NaN con string vacío\n",
    "netflix_dataset['description'] = netflix_dataset['description'].fillna('')\n",
    "\n",
    "# Construir matriz TF-IDF ajustando y transformando las descripciones\n",
    "tfidf_matrix = tfidf.fit_transform(netflix_dataset['description'])\n",
    "\n",
    "# Mostrar dimensiones de la matriz\n",
    "print(f\"Forma de la matriz TF-IDF: {tfidf_matrix.shape}\")"
   ]
  },
  {
   "cell_type": "markdown",
   "id": "947ff4da-5aa7-4933-8cb3-2c785cd9719c",
   "metadata": {},
   "source": [
    "Cálculo de Similitud Coseno"
   ]
  },
  {
   "cell_type": "code",
   "execution_count": 160,
   "id": "a21dc05f-0f19-4b16-bbb5-ea46e380804b",
   "metadata": {},
   "outputs": [
    {
     "name": "stdout",
     "output_type": "stream",
     "text": [
      "Forma de la matriz de similitud: (7787, 7787)\n"
     ]
    }
   ],
   "source": [
    "# Importar linear_kernel para calcular similitud coseno de manera eficiente\n",
    "from sklearn.metrics.pairwise import linear_kernel\n",
    "\n",
    "# Calcular matriz de similitud coseno\n",
    "cosine_sim = linear_kernel(tfidf_matrix, tfidf_matrix)\n",
    "print(f\"Forma de la matriz de similitud: {cosine_sim.shape}\")\n",
    "\n",
    "# Construir mapeo inverso de índices y títulos de películas\n",
    "indices = pd.Series(netflix_dataset.index, index=netflix_dataset['title']).drop_duplicates()"
   ]
  },
  {
   "cell_type": "markdown",
   "id": "4b422c79-cf1c-4651-88ee-5eef2c62469f",
   "metadata": {},
   "source": [
    "Función de Recomendaciones Simple"
   ]
  },
  {
   "cell_type": "code",
   "execution_count": 162,
   "id": "f4d7b8c1-6b38-4a85-8878-b25d4acd0d03",
   "metadata": {},
   "outputs": [
    {
     "name": "stdout",
     "output_type": "stream",
     "text": [
      "Recomendaciones para 'Welcome':\n",
      "1761                  Dil Vil Pyaar Vyaar\n",
      "6782                The Princess Weiyoung\n",
      "866                               Bewafaa\n",
      "3082                     It's Okay, Buddy\n",
      "7245                           True Tunes\n",
      "2472                             Gomorrah\n",
      "302                      Acts of Violence\n",
      "3859                          Magnificent\n",
      "4938    Power Rangers Operation Overdrive\n",
      "4692                        Our Godfather\n",
      "Name: title, dtype: object\n"
     ]
    }
   ],
   "source": [
    "# Función que toma título de película como entrada y devuelve películas similares\n",
    "def get_recommendations(title, cosine_sim=cosine_sim):\n",
    "    # Obtener índice de la película que coincide con el título\n",
    "    idx = indices[title]\n",
    "\n",
    "    # Obtener puntuaciones de similitud par a par de todas las películas con esa película\n",
    "    sim_scores = list(enumerate(cosine_sim[idx]))\n",
    "\n",
    "    # Ordenar películas basándose en las puntuaciones de similitud\n",
    "    sim_scores = sorted(sim_scores, key=lambda x: x[1], reverse=True)\n",
    "\n",
    "    # Obtener puntuaciones de las 10 películas más similares\n",
    "    sim_scores = sim_scores[1:11]\n",
    "\n",
    "    # Obtener índices de las películas\n",
    "    movie_indices = [i[0] for i in sim_scores]\n",
    "\n",
    "    # Devolver las 10 películas más similares\n",
    "    return netflix_dataset['title'].iloc[movie_indices]\n",
    "\n",
    "# Ejemplos de uso del sistema de recomendaciones simple\n",
    "print(\"Recomendaciones para 'Welcome':\")\n",
    "print(get_recommendations('Welcome'))\n",
    "\n"
   ]
  },
  {
   "cell_type": "code",
   "execution_count": 164,
   "id": "2885c515-fecc-4a38-9d7f-c61bdffe3423",
   "metadata": {},
   "outputs": [
    {
     "name": "stdout",
     "output_type": "stream",
     "text": [
      "\n",
      "Recomendaciones para 'Avengers: Infinity War':\n",
      "6920                              The Talented Mr. Ripley\n",
      "6270                                         The Darkness\n",
      "400                                Aliens Ate My Homework\n",
      "3589              LEGO Marvel Super Heroes: Black Panther\n",
      "1338                       Chilling Adventures of Sabrina\n",
      "7446                                              Vroomiz\n",
      "4678                                            Orbiter 9\n",
      "1448                                           Code Lyoko\n",
      "7388                                             Vampires\n",
      "3590    LEGO Marvel Super Heroes: Guardians of the Galaxy\n",
      "Name: title, dtype: object\n"
     ]
    }
   ],
   "source": [
    "print(\"\\nRecomendaciones para 'Avengers: Infinity War':\")\n",
    "print(get_recommendations('Avengers: Infinity War'))\n",
    "\n"
   ]
  },
  {
   "cell_type": "code",
   "execution_count": 166,
   "id": "8bdef0cf-7a3f-44e4-bf32-cfaeaa6f702e",
   "metadata": {},
   "outputs": [
    {
     "name": "stdout",
     "output_type": "stream",
     "text": [
      "\n",
      "Recomendaciones para 'Dil Dhadakne Do':\n",
      "6464                     The House of Flowers\n",
      "4603                                Old Money\n",
      "377                                     Alelí\n",
      "593                           Ascharyachakit!\n",
      "5171                                  Results\n",
      "1123                                 Budapest\n",
      "3916                           Mansfield Park\n",
      "5662        Sleepless Society: Bedtime Wishes\n",
      "1192                         Can You Hear Me?\n",
      "3583    LEGO Friends: The Power of Friendship\n",
      "Name: title, dtype: object\n"
     ]
    }
   ],
   "source": [
    "print(\"\\nRecomendaciones para 'Dil Dhadakne Do':\")\n",
    "print(get_recommendations('Dil Dhadakne Do'))"
   ]
  },
  {
   "cell_type": "code",
   "execution_count": null,
   "id": "60d366ee-8c61-4516-b98e-f99aa45ec84a",
   "metadata": {},
   "outputs": [],
   "source": []
  },
  {
   "cell_type": "markdown",
   "id": "0dc18e53-48fb-4c22-afbd-17af504d7cbf",
   "metadata": {},
   "source": [
    "## Sistema de Recomendaciones Mejorado con Múltiples Características\n",
    "Descripción: Versión mejorada del sistema que incluye múltiples características: título, director, reparto, género y descripción."
   ]
  },
  {
   "cell_type": "code",
   "execution_count": 65,
   "id": "8936e27f-a8e5-4c09-bab3-255c270167e7",
   "metadata": {},
   "outputs": [
    {
     "name": "stdout",
     "output_type": "stream",
     "text": [
      "Dataset con valores nulos rellenados:\n",
      "  show_id     type  title           director  \\\n",
      "0      s1  TV Show     3%                      \n",
      "1      s2    Movie  07:19  Jorge Michel Grau   \n",
      "2      s3    Movie  23:59       Gilbert Chan   \n",
      "3      s4    Movie      9        Shane Acker   \n",
      "4      s5    Movie     21     Robert Luketic   \n",
      "\n",
      "                                                cast        country  \\\n",
      "0  João Miguel, Bianca Comparato, Michel Gomes, R...         Brazil   \n",
      "1  Demián Bichir, Héctor Bonilla, Oscar Serrano, ...         Mexico   \n",
      "2  Tedd Chan, Stella Chung, Henley Hii, Lawrence ...      Singapore   \n",
      "3  Elijah Wood, John C. Reilly, Jennifer Connelly...  United States   \n",
      "4  Jim Sturgess, Kevin Spacey, Kate Bosworth, Aar...  United States   \n",
      "\n",
      "          date_added  release_year rating   duration  \\\n",
      "0    August 14, 2020          2020  TV-MA  4 Seasons   \n",
      "1  December 23, 2016          2016  TV-MA     93 min   \n",
      "2  December 20, 2018          2011      R     78 min   \n",
      "3  November 16, 2017          2009  PG-13     80 min   \n",
      "4    January 1, 2020          2008  PG-13    123 min   \n",
      "\n",
      "                                           listed_in  \\\n",
      "0  International TV Shows, TV Dramas, TV Sci-Fi &...   \n",
      "1                       Dramas, International Movies   \n",
      "2                Horror Movies, International Movies   \n",
      "3  Action & Adventure, Independent Movies, Sci-Fi...   \n",
      "4                                             Dramas   \n",
      "\n",
      "                                         description  \n",
      "0  In a future where the elite inhabit an island ...  \n",
      "1  After a devastating earthquake hits Mexico Cit...  \n",
      "2  When an army recruit is found dead, his fellow...  \n",
      "3  In a postapocalyptic world, rag-doll robots hi...  \n",
      "4  A brilliant group of students become card-coun...  \n",
      "Datos después de limpieza:\n",
      "   title         director                                               cast  \\\n",
      "0     3%                   joãomiguel,biancacomparato,michelgomes,rodolfo...   \n",
      "1  07:19  jorgemichelgrau  demiánbichir,héctorbonilla,oscarserrano,azalia...   \n",
      "2  23:59      gilbertchan  teddchan,stellachung,henleyhii,lawrencekoh,tom...   \n",
      "3      9       shaneacker  elijahwood,johnc.reilly,jenniferconnelly,chris...   \n",
      "4     21    robertluketic  jimsturgess,kevinspacey,katebosworth,aaronyoo,...   \n",
      "\n",
      "                                           listed_in  \\\n",
      "0     internationaltvshows,tvdramas,tvsci-fi&fantasy   \n",
      "1                         dramas,internationalmovies   \n",
      "2                   horrormovies,internationalmovies   \n",
      "3  action&adventure,independentmovies,sci-fi&fantasy   \n",
      "4                                             dramas   \n",
      "\n",
      "                                         description  \n",
      "0  inafuturewheretheeliteinhabitanislandparadisef...  \n",
      "1  afteradevastatingearthquakehitsmexicocity,trap...  \n",
      "2  whenanarmyrecruitisfounddead,hisfellowsoldiers...  \n",
      "3  inapostapocalypticworld,rag-dollrobotshideinfe...  \n",
      "4  abrilliantgroupofstudentsbecomecard-countingex...  \n"
     ]
    }
   ],
   "source": [
    "# Rellenar valores nulos con string vacío\n",
    "filledna = netflix_dataset.fillna('')\n",
    "print(\"Dataset con valores nulos rellenados:\")\n",
    "print(filledna.head())\n",
    "\n",
    "# Función para limpiar datos (convertir a minúsculas y remover espacios)\n",
    "def clean_data(x):\n",
    "    return str.lower(x.replace(\" \", \"\"))\n",
    "\n",
    "# Identificar características sobre las cuales filtrar el modelo\n",
    "features = ['title', 'director', 'cast', 'listed_in', 'description']\n",
    "filledna = filledna[features]\n",
    "\n",
    "# Aplicar limpieza a todas las características\n",
    "for feature in features:\n",
    "    filledna[feature] = filledna[feature].apply(clean_data)\n",
    "    \n",
    "print(\"Datos después de limpieza:\")\n",
    "print(filledna.head())"
   ]
  },
  {
   "cell_type": "markdown",
   "id": "fa478184-113e-4528-ac4c-3f4ed3614e3b",
   "metadata": {},
   "source": [
    "Creación del \"Soup\" (Bag of Words)"
   ]
  },
  {
   "cell_type": "code",
   "execution_count": 68,
   "id": "754fa1f7-ba84-443f-b108-3586f489e5c6",
   "metadata": {},
   "outputs": [
    {
     "name": "stdout",
     "output_type": "stream",
     "text": [
      "Ejemplo de soup creado:\n",
      "0    3%  joãomiguel,biancacomparato,michelgomes,rod...\n",
      "1    07:19 jorgemichelgrau demiánbichir,héctorbonil...\n",
      "Name: soup, dtype: object\n"
     ]
    }
   ],
   "source": [
    "# Función para crear \"soup\" - string que contiene todos los metadatos\n",
    "def create_soup(x):\n",
    "    return x['title'] + ' ' + x['director'] + ' ' + x['cast'] + ' ' + x['listed_in'] + ' ' + x['description']\n",
    "\n",
    "# Aplicar función para crear soup para cada fila\n",
    "filledna['soup'] = filledna.apply(create_soup, axis=1)\n",
    "print(\"Ejemplo de soup creado:\")\n",
    "print(filledna['soup'].head(2))"
   ]
  },
  {
   "cell_type": "markdown",
   "id": "260ad65a-f3ae-4090-be5d-873541a30a68",
   "metadata": {},
   "source": [
    "Vectorización con CountVectorizer"
   ]
  },
  {
   "cell_type": "code",
   "execution_count": 71,
   "id": "3db6bc59-f53f-4c3c-bc50-45a916ba3133",
   "metadata": {},
   "outputs": [
    {
     "name": "stdout",
     "output_type": "stream",
     "text": [
      "Forma de la matriz de conteo: (7787, 68314)\n"
     ]
    }
   ],
   "source": [
    "# Importar CountVectorizer y crear matriz de conteo\n",
    "from sklearn.feature_extraction.text import CountVectorizer\n",
    "\n",
    "# Usar CountVectorizer en lugar de TF-IDF para no penalizar actores/directores frecuentes\n",
    "count = CountVectorizer(stop_words='english')\n",
    "count_matrix = count.fit_transform(filledna['soup'])\n",
    "print(f\"Forma de la matriz de conteo: {count_matrix.shape}\")\n",
    "\n",
    "# Calcular matriz de similitud coseno basada en count_matrix\n",
    "from sklearn.metrics.pairwise import cosine_similarity\n",
    "cosine_sim2 = cosine_similarity(count_matrix, count_matrix)\n",
    "\n",
    "# Resetear índice del DataFrame principal y construir mapeo inverso\n",
    "filledna = filledna.reset_index()\n",
    "indices = pd.Series(filledna.index, index=filledna['title'])"
   ]
  },
  {
   "cell_type": "markdown",
   "id": "bd337f78-194d-4cf2-80b5-93bbce38c764",
   "metadata": {},
   "source": [
    "#### Definición de la Función de Recomendaciones Mejorada\n",
    "Descripción: Creación de la función principal que generará recomendaciones basadas en múltiples características."
   ]
  },
  {
   "cell_type": "code",
   "execution_count": 79,
   "id": "148efdd1-c372-41c9-b3ba-f9293a0885ce",
   "metadata": {},
   "outputs": [],
   "source": [
    "def get_recommendations_new(title, cosine_sim=cosine_sim):\n",
    "    \"\"\"\n",
    "    Función que genera recomendaciones basadas en similitud de contenido\n",
    "    \n",
    "    Parámetros:\n",
    "    - title: Título de la película/serie para la cual queremos recomendaciones\n",
    "    - cosine_sim: Matriz de similitud coseno (por defecto usa la matriz básica)\n",
    "    \n",
    "    Retorna:\n",
    "    - Series de pandas con los títulos recomendados\n",
    "    \"\"\"\n",
    "    pass "
   ]
  },
  {
   "cell_type": "markdown",
   "id": "88acf677-0ef7-49ce-aa2c-5d26cf2a8c74",
   "metadata": {},
   "source": [
    "#### Normalización del Título de Entrada\n",
    "Descripción: El primer paso es limpiar y normalizar el título que nos proporciona el usuario."
   ]
  },
  {
   "cell_type": "code",
   "execution_count": 82,
   "id": "c1c9da82-5448-496a-930c-856aac317511",
   "metadata": {},
   "outputs": [
    {
     "name": "stdout",
     "output_type": "stream",
     "text": [
      "Título original: 'The Umbrella Academy'\n",
      "Título normalizado: 'theumbrellaacademy'\n"
     ]
    }
   ],
   "source": [
    "# Paso 1: Normalizar el título de entrada\n",
    "def normalize_title(title):\n",
    "    \"\"\"\n",
    "    Normaliza el título removiendo espacios y convirtiendo a minúsculas\n",
    "    Esto es necesario porque nuestros datos procesados están en este formato\n",
    "    \"\"\"\n",
    "    normalized_title = title.replace(' ', '').lower()\n",
    "    print(f\"Título original: '{title}'\")\n",
    "    print(f\"Título normalizado: '{normalized_title}'\")\n",
    "    return normalized_title\n",
    "\n",
    "# Ejemplo de normalización\n",
    "example_title = \"The Umbrella Academy\"\n",
    "normalized = normalize_title(example_title)"
   ]
  },
  {
   "cell_type": "markdown",
   "id": "db6d4f20-b94d-40b1-9a4a-e0fbcf2aeee0",
   "metadata": {},
   "source": [
    "#### Búsqueda del Índice en el Dataset\n",
    "Descripción: Encontrar la posición (índice) de la película/serie en nuestro dataset."
   ]
  },
  {
   "cell_type": "code",
   "execution_count": 85,
   "id": "696e2d91-4f68-428c-8071-6892e5972f21",
   "metadata": {},
   "outputs": [
    {
     "name": "stdout",
     "output_type": "stream",
     "text": [
      "Título encontrado en el índice: 6958\n",
      "El título se encuentra en la posición 6958 del dataset\n"
     ]
    }
   ],
   "source": [
    "# Paso 2: Buscar el índice del título en nuestro dataset\n",
    "def find_title_index(normalized_title, indices):\n",
    "    \"\"\"\n",
    "    Busca el índice del título en el dataset\n",
    "    \n",
    "    Parámetros:\n",
    "    - normalized_title: Título ya normalizado\n",
    "    - indices: Series que mapea títulos a índices\n",
    "    \n",
    "    Retorna:\n",
    "    - Índice numérico del título en el dataset\n",
    "    \"\"\"\n",
    "    try:\n",
    "        idx = indices[normalized_title]\n",
    "        print(f\"Título encontrado en el índice: {idx}\")\n",
    "        return idx\n",
    "    except KeyError:\n",
    "        print(f\"Error: Título '{normalized_title}' no encontrado en el dataset\")\n",
    "        return None\n",
    "\n",
    "# Ejemplo de búsqueda de índice\n",
    "title_to_search = \"theumbrellaacademy\"  # Título normalizado\n",
    "if title_to_search in indices:\n",
    "    found_index = find_title_index(title_to_search, indices)\n",
    "    print(f\"El título se encuentra en la posición {found_index} del dataset\")"
   ]
  },
  {
   "cell_type": "markdown",
   "id": "30ac3919-192d-47b1-9ee9-329ea8f1f4f6",
   "metadata": {},
   "source": [
    "#### Obtención de Puntuaciones de Similitud\n",
    "Descripción: Extraer las puntuaciones de similitud de nuestro título con todas las demás películas/series."
   ]
  },
  {
   "cell_type": "code",
   "execution_count": 88,
   "id": "2a1c4a62-2c38-4ce0-b9dd-a4253db59e10",
   "metadata": {},
   "outputs": [
    {
     "name": "stdout",
     "output_type": "stream",
     "text": [
      "Total de puntuaciones obtenidas: 7787\n",
      "Ejemplos de puntuaciones:\n",
      "  Índice 0: Similitud 1.0000\n",
      "  Índice 1: Similitud 0.0000\n",
      "  Índice 2: Similitud 0.0000\n",
      "  Índice 3: Similitud 0.1001\n",
      "  Índice 4: Similitud 0.0000\n"
     ]
    }
   ],
   "source": [
    "# Paso 3: Obtener todas las puntuaciones de similitud\n",
    "def get_similarity_scores(idx, cosine_sim_matrix):\n",
    "    \"\"\"\n",
    "    Obtiene las puntuaciones de similitud para un título específico\n",
    "    \n",
    "    Parámetros:\n",
    "    - idx: Índice del título en el dataset\n",
    "    - cosine_sim_matrix: Matriz de similitud coseno\n",
    "    \n",
    "    Retorna:\n",
    "    - Lista de tuplas (índice, puntuación_similitud)\n",
    "    \"\"\"\n",
    "    # Obtener la fila correspondiente de la matriz de similitud\n",
    "    similarity_row = cosine_sim_matrix[idx]\n",
    "    \n",
    "    # Crear lista de tuplas (índice, puntuación)\n",
    "    sim_scores = list(enumerate(similarity_row))\n",
    "    \n",
    "    print(f\"Total de puntuaciones obtenidas: {len(sim_scores)}\")\n",
    "    print(f\"Ejemplos de puntuaciones:\")\n",
    "    for i in range(5):  # Mostrar primeras 5 puntuaciones\n",
    "        print(f\"  Índice {sim_scores[i][0]}: Similitud {sim_scores[i][1]:.4f}\")\n",
    "    \n",
    "    return sim_scores\n",
    "\n",
    "# Ejemplo de obtención de puntuaciones (usaremos índice 0 como ejemplo)\n",
    "example_idx = 0\n",
    "example_scores = get_similarity_scores(example_idx, cosine_sim2)"
   ]
  },
  {
   "cell_type": "markdown",
   "id": "b86504f2-766d-40d2-af1a-35b190ca3bd4",
   "metadata": {},
   "source": [
    "#### Ordenamiento por Similitud\n",
    "Descripción: Ordenar todas las puntuaciones de mayor a menor similitud."
   ]
  },
  {
   "cell_type": "code",
   "execution_count": 91,
   "id": "268183f8-07cf-4161-b2ca-60a1dd6091b7",
   "metadata": {},
   "outputs": [
    {
     "name": "stdout",
     "output_type": "stream",
     "text": [
      "Top 10 puntuaciones más altas:\n",
      "  Posición 1: Índice 0, Similitud 1.0000\n",
      "  Posición 2: Índice 931, Similitud 0.3066\n",
      "  Posición 3: Índice 4611, Similitud 0.2962\n",
      "  Posición 4: Índice 984, Similitud 0.2868\n",
      "  Posición 5: Índice 1064, Similitud 0.2868\n",
      "  Posición 6: Índice 1736, Similitud 0.2704\n",
      "  Posición 7: Índice 2593, Similitud 0.2704\n",
      "  Posición 8: Índice 7323, Similitud 0.2632\n",
      "  Posición 9: Índice 640, Similitud 0.2369\n",
      "  Posición 10: Índice 3865, Similitud 0.2294\n"
     ]
    }
   ],
   "source": [
    "# Paso 4: Ordenar por puntuación de similitud (de mayor a menor)\n",
    "def sort_by_similarity(sim_scores):\n",
    "    \"\"\"\n",
    "    Ordena las puntuaciones de similitud de mayor a menor\n",
    "    \n",
    "    Parámetros:\n",
    "    - sim_scores: Lista de tuplas (índice, puntuación)\n",
    "    \n",
    "    Retorna:\n",
    "    - Lista ordenada de tuplas (índice, puntuación)\n",
    "    \"\"\"\n",
    "    # Ordenar por el segundo elemento de cada tupla (la puntuación) en orden descendente\n",
    "    sorted_scores = sorted(sim_scores, key=lambda x: x[1], reverse=True)\n",
    "    \n",
    "    print(\"Top 10 puntuaciones más altas:\")\n",
    "    for i in range(10):\n",
    "        idx, score = sorted_scores[i]\n",
    "        print(f\"  Posición {i+1}: Índice {idx}, Similitud {score:.4f}\")\n",
    "    \n",
    "    return sorted_scores\n",
    "\n",
    "# Ejemplo de ordenamiento\n",
    "sorted_example = sort_by_similarity(example_scores)"
   ]
  },
  {
   "cell_type": "markdown",
   "id": "5edcbba9-567a-4b8b-8f1f-d63ed8f1562a",
   "metadata": {},
   "source": [
    "Selección de Top Recomendaciones\n",
    "Descripción: Seleccionar las mejores recomendaciones excluyendo el título original."
   ]
  },
  {
   "cell_type": "code",
   "execution_count": 94,
   "id": "d5f77110-3b5c-4112-96f0-45aa4eb900bc",
   "metadata": {},
   "outputs": [
    {
     "name": "stdout",
     "output_type": "stream",
     "text": [
      "Seleccionando top 5 recomendaciones:\n",
      "  Recomendación 1: Índice 931, Similitud 0.3066\n",
      "  Recomendación 2: Índice 4611, Similitud 0.2962\n",
      "  Recomendación 3: Índice 984, Similitud 0.2868\n",
      "  Recomendación 4: Índice 1064, Similitud 0.2868\n",
      "  Recomendación 5: Índice 1736, Similitud 0.2704\n"
     ]
    }
   ],
   "source": [
    "# Paso 5: Seleccionar las mejores recomendaciones (excluyendo el título original)\n",
    "def select_top_recommendations(sorted_scores, num_recommendations=10):\n",
    "    \"\"\"\n",
    "    Selecciona las mejores recomendaciones excluyendo el título original\n",
    "    \n",
    "    Parámetros:\n",
    "    - sorted_scores: Lista ordenada de puntuaciones\n",
    "    - num_recommendations: Número de recomendaciones a devolver\n",
    "    \n",
    "    Retorna:\n",
    "    - Lista de tuplas con las mejores recomendaciones\n",
    "    \"\"\"\n",
    "    # El primer elemento (índice 0) es el título original, lo excluimos\n",
    "    # Tomamos desde el índice 1 hasta num_recommendations+1\n",
    "    top_recommendations = sorted_scores[1:num_recommendations+1]\n",
    "    \n",
    "    print(f\"Seleccionando top {num_recommendations} recomendaciones:\")\n",
    "    for i, (idx, score) in enumerate(top_recommendations):\n",
    "        print(f\"  Recomendación {i+1}: Índice {idx}, Similitud {score:.4f}\")\n",
    "    \n",
    "    return top_recommendations\n",
    "\n",
    "# Ejemplo de selección\n",
    "top_recs = select_top_recommendations(sorted_example, 5)"
   ]
  },
  {
   "cell_type": "markdown",
   "id": "7ac75e9e-b408-4cd7-b6ca-297dd7e6f83c",
   "metadata": {},
   "source": [
    "#### Extracción de Títulos Recomendados\n",
    "Descripción: Convertir los índices de recomendaciones en títulos legibles."
   ]
  },
  {
   "cell_type": "code",
   "execution_count": 99,
   "id": "94ab4563-d17f-4284-819f-f0d88b7fd0ee",
   "metadata": {},
   "outputs": [
    {
     "name": "stdout",
     "output_type": "stream",
     "text": [
      "Índices de películas recomendadas: [931, 4611, 984, 1064, 1736]\n",
      "Títulos recomendados:\n",
      "  - Biohackers (TV Show)\n",
      "  - Omniscient (TV Show)\n",
      "  - Blood & Treasures (TV Show)\n",
      "  - Bountiful Blessings (TV Show)\n",
      "  - Dharmakshetra (TV Show)\n"
     ]
    }
   ],
   "source": [
    "# Paso 6: Convertir índices a títulos reales\n",
    "def get_recommended_titles(top_recommendations, original_dataset):\n",
    "    \"\"\"\n",
    "    Convierte los índices de recomendaciones en títulos reales\n",
    "    \n",
    "    Parámetros:\n",
    "    - top_recommendations: Lista de tuplas (índice, puntuación)\n",
    "    - original_dataset: Dataset original de Netflix\n",
    "    \n",
    "    Retorna:\n",
    "    - Series de pandas con información de las recomendaciones\n",
    "    \"\"\"\n",
    "    # Extraer solo los índices\n",
    "    movie_indices = [i[0] for i in top_recommendations]\n",
    "    \n",
    "    print(\"Índices de películas recomendadas:\", movie_indices)\n",
    "    \n",
    "    # Obtener información completa de las recomendaciones\n",
    "    recommended_titles = original_dataset.iloc[movie_indices][['title', 'type', 'listed_in', 'description']]\n",
    "    \n",
    "    print(\"Títulos recomendados:\")\n",
    "    for idx, row in recommended_titles.iterrows():\n",
    "        print(f\"  - {row['title']} ({row['type']})\")\n",
    "    \n",
    "    return recommended_titles\n",
    "\n",
    "# Ejemplo de extracción de títulos\n",
    "recommended_movies = get_recommended_titles(top_recs, netflix_dataset)"
   ]
  },
  {
   "cell_type": "markdown",
   "id": "07b4597a-5ed3-4273-ac4d-9bd64b621311",
   "metadata": {},
   "source": [
    "#### Función Completa Integrada\n",
    "Descripción: Función final que integra todos los pasos anteriores."
   ]
  },
  {
   "cell_type": "code",
   "execution_count": 119,
   "id": "2ee95957-be63-4574-b464-ab94ac64c895",
   "metadata": {},
   "outputs": [],
   "source": [
    "# Función completa que integra todos los pasos\n",
    "def get_recommendations_new(title, cosine_sim=cosine_sim2):\n",
    "    \"\"\"\n",
    "    Función completa que genera recomendaciones paso a paso\n",
    "    \"\"\"\n",
    "    print(f\"\\n{'='*50}\")\n",
    "    print(f\"GENERANDO RECOMENDACIONES PARA: '{title}'\")\n",
    "    print(f\"{'='*50}\")\n",
    "    \n",
    "    # Paso 1: Normalizar título\n",
    "    normalized_title = title.replace(' ', '').lower()\n",
    "    print(f\"\\n1. Título normalizado: '{normalized_title}'\")\n",
    "    \n",
    "    # Paso 2: Buscar índice\n",
    "    try:\n",
    "        idx = indices[normalized_title]\n",
    "        print(f\"2. Índice encontrado: {idx}\")\n",
    "    except KeyError:\n",
    "        print(f\"Error: Título no encontrado en el dataset\")\n",
    "        return None\n",
    "    \n",
    "    # Paso 3: Obtener puntuaciones de similitud\n",
    "    sim_scores = list(enumerate(cosine_sim[idx]))\n",
    "    print(f\"3. Puntuaciones de similitud obtenidas: {len(sim_scores)} títulos\")\n",
    "    \n",
    "    # Paso 4: Ordenar por similitud\n",
    "    sim_scores = sorted(sim_scores, key=lambda x: x[1], reverse=True)\n",
    "    print(f\"4. Puntuaciones ordenadas (mejor similitud: {sim_scores[0][1]:.4f})\")\n",
    "    \n",
    "    # Paso 5: Seleccionar top 10 (excluyendo el original)\n",
    "    sim_scores = sim_scores[1:11]\n",
    "    print(f\"5. Top 10 recomendaciones seleccionadas\")\n",
    "    \n",
    "    # Paso 6: Obtener índices de películas\n",
    "    movie_indices = [i[0] for i in sim_scores]\n",
    "    print(f\"6. Índices de recomendaciones: {movie_indices[:5]}...\")\n",
    "    \n",
    "    # Paso 7: Devolver títulos\n",
    "    recommendations = netflix_dataset['title'].iloc[movie_indices]\n",
    "    print(f\"7. Recomendaciones generadas exitosamente\")\n",
    "    \n",
    "    return recommendations"
   ]
  },
  {
   "cell_type": "markdown",
   "id": "d39003eb-4a62-43a1-87f2-090108c3094f",
   "metadata": {},
   "source": [
    "#### Pruebas Individuales del Sistema\n",
    "Descripción: Pruebas separadas para cada título, mostrando el proceso completo."
   ]
  },
  {
   "cell_type": "code",
   "execution_count": 121,
   "id": "1ce8e585-9c5c-4da5-bf9d-fc2e2381ed67",
   "metadata": {},
   "outputs": [
    {
     "name": "stdout",
     "output_type": "stream",
     "text": [
      "\n",
      "============================================================\n",
      "PRUEBA 1: RECOMENDACIONES PARA 'WELCOME'\n",
      "============================================================\n",
      "\n",
      "==================================================\n",
      "GENERANDO RECOMENDACIONES PARA: 'Welcome'\n",
      "==================================================\n",
      "\n",
      "1. Título normalizado: 'welcome'\n",
      "2. Índice encontrado: 7523\n",
      "3. Puntuaciones de similitud obtenidas: 7787 títulos\n",
      "4. Puntuaciones ordenadas (mejor similitud: 1.0000)\n",
      "5. Top 10 recomendaciones seleccionadas\n",
      "6. Índices de recomendaciones: [6016, 6863, 1740, 3215, 2862]...\n",
      "7. Recomendaciones generadas exitosamente\n",
      "\n",
      "RESULTADOS:\n",
      " 1. Tees Maar Khan\n",
      " 2. The Shaukeens\n",
      " 3. Dhoondte Reh Jaoge\n",
      " 4. Joker\n",
      " 5. Humko Deewana Kar Gaye\n",
      " 6. Aitraaz\n",
      " 7. Thank You\n",
      " 8. Maine Pyaar Kyun Kiya\n",
      " 9. Phir Hera Pheri\n",
      "10. Race\n"
     ]
    }
   ],
   "source": [
    "# Prueba 1: Recomendaciones para \"Welcome\"\n",
    "print(\"\\n\" + \"=\"*60)\n",
    "print(\"PRUEBA 1: RECOMENDACIONES PARA 'WELCOME'\")\n",
    "print(\"=\"*60)\n",
    "recommendations_1 = get_recommendations_new('Welcome', cosine_sim2)\n",
    "if recommendations_1 is not None:\n",
    "    print(\"\\nRESULTADOS:\")\n",
    "    for i, title in enumerate(recommendations_1, 1):\n",
    "        print(f\"{i:2}. {title}\")"
   ]
  },
  {
   "cell_type": "code",
   "execution_count": 123,
   "id": "7e3503a5-3c7e-480a-b4f0-2e6b70f36e03",
   "metadata": {},
   "outputs": [
    {
     "name": "stdout",
     "output_type": "stream",
     "text": [
      "\n",
      "============================================================\n",
      "PRUEBA 2: RECOMENDACIONES PARA 'THE UMBRELLA ACADEMY'\n",
      "============================================================\n",
      "\n",
      "==================================================\n",
      "GENERANDO RECOMENDACIONES PARA: 'The Umbrella Academy'\n",
      "==================================================\n",
      "\n",
      "1. Título normalizado: 'theumbrellaacademy'\n",
      "2. Índice encontrado: 6958\n",
      "3. Puntuaciones de similitud obtenidas: 7787 títulos\n",
      "4. Puntuaciones ordenadas (mejor similitud: 1.0000)\n",
      "5. Top 10 recomendaciones seleccionadas\n",
      "6. Índices de recomendaciones: [7484, 1869, 3865, 1465, 954]...\n",
      "7. Recomendaciones generadas exitosamente\n",
      "\n",
      "RESULTADOS:\n",
      " 1. Warrior Nun\n",
      " 2. DreamWorks How to Train Your Dragon Legends\n",
      " 3. Maharakshak: Aryan\n",
      " 4. Colony\n",
      " 5. Black Lightning\n",
      " 6. The Dragon Prince\n",
      " 7. The Legend of Korra\n",
      " 8. The New Legends of Monkey\n",
      " 9. Jurassic World Camp Cretaceous\n",
      "10. Lost in Space\n"
     ]
    }
   ],
   "source": [
    "# Prueba 2: Recomendaciones para \"The Umbrella Academy\"\n",
    "print(\"\\n\" + \"=\"*60)\n",
    "print(\"PRUEBA 2: RECOMENDACIONES PARA 'THE UMBRELLA ACADEMY'\")\n",
    "print(\"=\"*60)\n",
    "recommendations_2 = get_recommendations_new('The Umbrella Academy', cosine_sim2)\n",
    "if recommendations_2 is not None:\n",
    "    print(\"\\nRESULTADOS:\")\n",
    "    for i, title in enumerate(recommendations_2, 1):\n",
    "        print(f\"{i:2}. {title}\")"
   ]
  },
  {
   "cell_type": "code",
   "execution_count": 125,
   "id": "ec8edd11-11eb-46fa-8fb7-a4d3d999d55d",
   "metadata": {},
   "outputs": [
    {
     "name": "stdout",
     "output_type": "stream",
     "text": [
      "\n",
      "============================================================\n",
      "PRUEBA 3: RECOMENDACIONES PARA 'DIL DHADAKNE DO'\n",
      "============================================================\n",
      "\n",
      "==================================================\n",
      "GENERANDO RECOMENDACIONES PARA: 'Dil Dhadakne Do'\n",
      "==================================================\n",
      "\n",
      "1. Título normalizado: 'dildhadaknedo'\n",
      "2. Índice encontrado: 1758\n",
      "3. Puntuaciones de similitud obtenidas: 7787 títulos\n",
      "4. Puntuaciones ordenadas (mejor similitud: 1.0000)\n",
      "5. Top 10 recomendaciones seleccionadas\n",
      "6. Índices de recomendaciones: [7769, 362, 6878, 1757, 3912]...\n",
      "7. Recomendaciones generadas exitosamente\n",
      "\n",
      "RESULTADOS:\n",
      " 1. Zindagi Na Milegi Dobara\n",
      " 2. AK vs AK\n",
      " 3. The Sky Is Pink\n",
      " 4. Dil Chahta Hai\n",
      " 5. Mann\n",
      " 6. PK\n",
      " 7. Haapus\n",
      " 8. Bhangra Paa Le\n",
      " 9. Taare Zameen Par\n",
      "10. Chal Dhar Pakad\n"
     ]
    }
   ],
   "source": [
    "# Prueba 3: Recomendaciones para \"Dil Dhadakne Do\"\n",
    "print(\"\\n\" + \"=\"*60)\n",
    "print(\"PRUEBA 3: RECOMENDACIONES PARA 'DIL DHADAKNE DO'\")\n",
    "print(\"=\"*60)\n",
    "recommendations_3 = get_recommendations_new('Dil Dhadakne Do', cosine_sim2)\n",
    "if recommendations_3 is not None:\n",
    "    print(\"\\nRESULTADOS:\")\n",
    "    for i, title in enumerate(recommendations_3, 1):\n",
    "        print(f\"{i:2}. {title}\")"
   ]
  },
  {
   "cell_type": "markdown",
   "id": "f081bd34-6f30-4099-b048-0ce5956b9347",
   "metadata": {},
   "source": [
    "#### Función de Análisis Detallado de Recomendaciones\n",
    "Descripción: Función adicional para analizar en detalle por qué se generaron ciertas recomendaciones.\n"
   ]
  },
  {
   "cell_type": "code",
   "execution_count": 130,
   "id": "7c95421e-82c1-465d-8a87-0fb9684eb4cd",
   "metadata": {},
   "outputs": [
    {
     "name": "stdout",
     "output_type": "stream",
     "text": [
      "\n",
      "==================================================\n",
      "ANÁLISIS DETALLADO DE RECOMENDACIONES PARA: 'Welcome'\n",
      "==================================================\n",
      "\n",
      "==================================================\n",
      "GENERANDO RECOMENDACIONES PARA: 'Welcome'\n",
      "==================================================\n",
      "\n",
      "1. Título normalizado: 'welcome'\n",
      "2. Índice encontrado: 7523\n",
      "3. Puntuaciones de similitud obtenidas: 7787 títulos\n",
      "4. Puntuaciones ordenadas (mejor similitud: 1.0000)\n",
      "5. Top 10 recomendaciones seleccionadas\n",
      "6. Índices de recomendaciones: [6016, 6863, 1740, 3215, 2862]...\n",
      "7. Recomendaciones generadas exitosamente\n",
      "\n",
      "ANALIZANDO LAS PRIMERAS 3 RECOMENDACIONES:\n",
      "--------------------------------------------------\n",
      "\n",
      "TÍTULO ORIGINAL:\n",
      "  Título: Welcome\n",
      "  Tipo: Movie\n",
      "  Géneros: Comedies, International Movies, Music & Musicals\n",
      "  Director: Anees Bazmee\n",
      "\n",
      "RECOMENDACIÓN 1: Tees Maar Khan\n",
      "  Tipo: Movie\n",
      "  Géneros: Comedies, International Movies, Music & Musicals\n",
      "  Director: Farah Khan\n",
      "  Similitud: 0.3338\n",
      "\n",
      "RECOMENDACIÓN 2: The Shaukeens\n",
      "  Tipo: Movie\n",
      "  Géneros: Comedies, International Movies, Music & Musicals\n",
      "  Director: Abhishek Sharma\n",
      "  Similitud: 0.3311\n",
      "\n",
      "RECOMENDACIÓN 3: Dhoondte Reh Jaoge\n",
      "  Tipo: Movie\n",
      "  Géneros: Comedies, International Movies, Music & Musicals\n",
      "  Director: Umesh Shukla\n",
      "  Similitud: 0.3244\n"
     ]
    }
   ],
   "source": [
    "# Función para analizar por qué se generaron las recomendaciones\n",
    "def analyze_recommendations(title, num_to_analyze=3):\n",
    "    \"\"\"\n",
    "    Analiza en detalle por qué se generaron ciertas recomendaciones\n",
    "    \"\"\"\n",
    "    print(f\"\\n{'='*50}\")\n",
    "    print(f\"ANÁLISIS DETALLADO DE RECOMENDACIONES PARA: '{title}'\")\n",
    "    print(f\"{'='*50}\")\n",
    "    \n",
    "    # Obtener recomendaciones\n",
    "    recommendations = get_recommendations_new(title, cosine_sim2)\n",
    "    \n",
    "    if recommendations is not None:\n",
    "        print(f\"\\nANALIZANDO LAS PRIMERAS {num_to_analyze} RECOMENDACIONES:\")\n",
    "        print(\"-\" * 50)\n",
    "        \n",
    "        # Obtener información del título original\n",
    "        normalized_title = title.replace(' ', '').lower()\n",
    "        original_idx = indices[normalized_title]\n",
    "        original_info = netflix_dataset.iloc[original_idx]\n",
    "        \n",
    "        print(f\"\\nTÍTULO ORIGINAL:\")\n",
    "        print(f\"  Título: {original_info['title']}\")\n",
    "        print(f\"  Tipo: {original_info['type']}\")\n",
    "        print(f\"  Géneros: {original_info['listed_in']}\")\n",
    "        print(f\"  Director: {original_info['director']}\")\n",
    "        \n",
    "        # Analizar cada recomendación\n",
    "        for i in range(min(num_to_analyze, len(recommendations))):\n",
    "            rec_title = recommendations.iloc[i]\n",
    "            rec_idx = netflix_dataset[netflix_dataset['title'] == rec_title].index[0]\n",
    "            rec_info = netflix_dataset.iloc[rec_idx]\n",
    "            \n",
    "            print(f\"\\nRECOMENDACIÓN {i+1}: {rec_title}\")\n",
    "            print(f\"  Tipo: {rec_info['type']}\")\n",
    "            print(f\"  Géneros: {rec_info['listed_in']}\")\n",
    "            print(f\"  Director: {rec_info['director']}\")\n",
    "            print(f\"  Similitud: {cosine_sim2[original_idx][rec_idx]:.4f}\")\n",
    "\n",
    "# Ejemplo de análisis detallado\n",
    "analyze_recommendations('Welcome', 3)"
   ]
  },
  {
   "cell_type": "code",
   "execution_count": 178,
   "id": "c1983478-3fe7-461e-97ec-2e1d135e4bd1",
   "metadata": {},
   "outputs": [],
   "source": [
    "# Función simplificada que valida si el título existe\n",
    "def get_recommendations(title, cosine_sim=cosine_sim):\n",
    "    \"\"\"\n",
    "    Función que obtiene recomendaciones para un título dado.\n",
    "    Si el título no existe, muestra que no está disponible.\n",
    "    \n",
    "    Args:\n",
    "        title (str): Título de la película/serie a buscar\n",
    "        cosine_sim: Matriz de similitud coseno\n",
    "    \n",
    "    Returns:\n",
    "        pandas.Series o None: Lista de títulos recomendados o None si no existe\n",
    "    \"\"\"\n",
    "    # Verificar si el título existe en el dataset\n",
    "    if title not in indices:\n",
    "        print(f\"El título '{title}' no existe en el dataset de Netflix.\")\n",
    "        \n",
    "        # Buscar títulos similares (coincidencias parciales)\n",
    "        similar_titles = netflix_dataset[netflix_dataset['title'].str.contains(title, case=False, na=False)]['title']\n",
    "        \n",
    "        if not similar_titles.empty:\n",
    "            print(\"Títulos similares encontrados:\")\n",
    "            print(similar_titles)\n",
    "        else:\n",
    "            print(\"No se encontraron títulos similares.\")\n",
    "        \n",
    "        return None\n",
    "    \n",
    "    # Si el título existe, obtener recomendaciones\n",
    "    idx = indices[title]\n",
    "    \n",
    "    # Obtener puntuaciones de similitud\n",
    "    sim_scores = list(enumerate(cosine_sim[idx]))\n",
    "    \n",
    "    # Ordenar por similitud\n",
    "    sim_scores = sorted(sim_scores, key=lambda x: x[1], reverse=True)\n",
    "    \n",
    "    # Obtener los 10 más similares (excluyendo el mismo)\n",
    "    sim_scores = sim_scores[1:11]\n",
    "    \n",
    "    # Obtener índices\n",
    "    movie_indices = [i[0] for i in sim_scores]\n",
    "    \n",
    "    # Devolver títulos recomendados\n",
    "    return netflix_dataset['title'].iloc[movie_indices]\n",
    "\n",
    "\n",
    "# Función para buscar títulos por palabra clave (simplificada)\n",
    "def search_titles(keyword):\n",
    "    \"\"\"\n",
    "    Busca títulos que contengan una palabra clave específica.\n",
    "    \n",
    "    Args:\n",
    "        keyword (str): Palabra clave a buscar\n",
    "    \n",
    "    Returns:\n",
    "        pandas.Series: Serie con los títulos encontrados\n",
    "    \"\"\"\n",
    "    matches = netflix_dataset[netflix_dataset['title'].str.contains(keyword, case=False, na=False)]['title']\n",
    "    \n",
    "    if matches.empty:\n",
    "        print(f\"No se encontraron títulos que contengan '{keyword}'\")\n",
    "        return None\n",
    "    \n",
    "    return matches\n",
    "\n"
   ]
  },
  {
   "cell_type": "code",
   "execution_count": 180,
   "id": "5bd111b1-5c22-4b85-a1e1-77a5ad6ae41d",
   "metadata": {},
   "outputs": [
    {
     "name": "stdout",
     "output_type": "stream",
     "text": [
      "6464                     The House of Flowers\n",
      "4603                                Old Money\n",
      "377                                     Alelí\n",
      "593                           Ascharyachakit!\n",
      "5171                                  Results\n",
      "1123                                 Budapest\n",
      "3916                           Mansfield Park\n",
      "5662        Sleepless Society: Bedtime Wishes\n",
      "1192                         Can You Hear Me?\n",
      "3583    LEGO Friends: The Power of Friendship\n",
      "Name: title, dtype: object\n"
     ]
    }
   ],
   "source": [
    "\n",
    "print(get_recommendations('Dil Dhadakne Do'))"
   ]
  },
  {
   "cell_type": "markdown",
   "id": "b68d8204-1e65-484d-86bd-6905fc469bcd",
   "metadata": {},
   "source": [
    "### Peliculas"
   ]
  },
  {
   "cell_type": "code",
   "execution_count": 182,
   "id": "ccec12e2-4a12-42b8-a883-e5dfe3f76d0c",
   "metadata": {},
   "outputs": [
    {
     "name": "stdout",
     "output_type": "stream",
     "text": [
      "1931    Eggnoid: Love & Time Portal\n",
      "7743                Yours Fatefully\n",
      "6792               The Pyramid Code\n",
      "4322                   My Holo Love\n",
      "5905                    Super Wings\n",
      "5737                          Spark\n",
      "2234                        Force 2\n",
      "4646                 One Last Thing\n",
      "959                   Black Panther\n",
      "1723                         Deuces\n",
      "Name: title, dtype: object\n"
     ]
    }
   ],
   "source": [
    "print(get_recommendations('Her'))"
   ]
  },
  {
   "cell_type": "code",
   "execution_count": 184,
   "id": "e6502379-ba0d-4c6d-bf01-4387547cc9be",
   "metadata": {},
   "outputs": [
    {
     "name": "stdout",
     "output_type": "stream",
     "text": [
      "6367                   The Forest\n",
      "496               An Ordinary Man\n",
      "4026         Memoir of a Murderer\n",
      "5919    Surga Yang Tak Dirindukan\n",
      "3621                         Life\n",
      "4552                 Nurse Jackie\n",
      "7336             Under the Shadow\n",
      "7023         The Wrong Babysitter\n",
      "4894                  Point Blank\n",
      "5610      Silver Linings Playbook\n",
      "Name: title, dtype: object\n"
     ]
    }
   ],
   "source": [
    "print(get_recommendations('Fractured'))"
   ]
  },
  {
   "cell_type": "markdown",
   "id": "6d370d69-bc53-47bc-b4f8-c31e112d356e",
   "metadata": {},
   "source": [
    "### Series"
   ]
  },
  {
   "cell_type": "code",
   "execution_count": 186,
   "id": "bdc5ba8e-2c74-4a55-a9d5-8e5b1691000a",
   "metadata": {},
   "outputs": [
    {
     "name": "stdout",
     "output_type": "stream",
     "text": [
      "2038              EVANGELION: DEATH (TRUE)²\n",
      "3473                             Kuromukuro\n",
      "6329                  The End of Evangelion\n",
      "3976                   Masameer - The Movie\n",
      "2870                        Hunter's Prayer\n",
      "2873            Huntik: Secrets and Seekers\n",
      "5174                                Retablo\n",
      "4040                             Mercury 13\n",
      "7512    We'll Be Right Back After The Break\n",
      "1117                               Brothers\n",
      "Name: title, dtype: object\n"
     ]
    }
   ],
   "source": [
    "print(get_recommendations('Neon Genesis Evangelion'))"
   ]
  },
  {
   "cell_type": "code",
   "execution_count": 190,
   "id": "fcba07f1-9076-4a87-9731-ed8e7e303d65",
   "metadata": {},
   "outputs": [
    {
     "name": "stdout",
     "output_type": "stream",
     "text": [
      "El título 'Futurama' no existe en el dataset de Netflix.\n",
      "No se encontraron títulos similares.\n",
      "None\n"
     ]
    }
   ],
   "source": [
    "print(get_recommendations('Futurama'))"
   ]
  }
 ],
 "metadata": {
  "kernelspec": {
   "display_name": "Python 3 (ipykernel)",
   "language": "python",
   "name": "python3"
  },
  "language_info": {
   "codemirror_mode": {
    "name": "ipython",
    "version": 3
   },
   "file_extension": ".py",
   "mimetype": "text/x-python",
   "name": "python",
   "nbconvert_exporter": "python",
   "pygments_lexer": "ipython3",
   "version": "3.12.7"
  }
 },
 "nbformat": 4,
 "nbformat_minor": 5
}
